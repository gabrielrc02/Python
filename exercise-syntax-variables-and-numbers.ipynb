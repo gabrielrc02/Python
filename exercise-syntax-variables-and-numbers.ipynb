{
 "cells": [
  {
   "cell_type": "markdown",
   "id": "a9741e80",
   "metadata": {
    "papermill": {
     "duration": 0.006909,
     "end_time": "2023-05-26T17:51:47.227241",
     "exception": false,
     "start_time": "2023-05-26T17:51:47.220332",
     "status": "completed"
    },
    "tags": []
   },
   "source": [
    "**This notebook is an exercise in the [Python](https://www.kaggle.com/learn/python) course.  You can reference the tutorial at [this link](https://www.kaggle.com/colinmorris/hello-python).**\n",
    "\n",
    "---\n"
   ]
  },
  {
   "cell_type": "markdown",
   "id": "c4b6d9a2",
   "metadata": {
    "papermill": {
     "duration": 0.005257,
     "end_time": "2023-05-26T17:51:47.239180",
     "exception": false,
     "start_time": "2023-05-26T17:51:47.233923",
     "status": "completed"
    },
    "tags": []
   },
   "source": [
    "Welcome to your first set of Python coding problems.  If this is your first time using Kaggle Notebooks, welcome! \n",
    "\n",
    "Notebooks are composed of blocks (called \"cells\") of text and code. Each of these is editable, though you'll mainly be editing the code cells to answer some questions.\n",
    "\n",
    "To get started, try running the code cell below (by pressing the ► button, or clicking on the cell and pressing ctrl+enter on your keyboard)."
   ]
  },
  {
   "cell_type": "code",
   "execution_count": null,
   "id": "cfdd03e5",
   "metadata": {
    "papermill": {
     "duration": 0.004931,
     "end_time": "2023-05-26T17:51:47.249391",
     "exception": false,
     "start_time": "2023-05-26T17:51:47.244460",
     "status": "completed"
    },
    "tags": []
   },
   "outputs": [],
   "source": []
  },
  {
   "cell_type": "code",
   "execution_count": 1,
   "id": "353452ba",
   "metadata": {
    "execution": {
     "iopub.execute_input": "2023-05-26T17:51:47.261982Z",
     "iopub.status.busy": "2023-05-26T17:51:47.261584Z",
     "iopub.status.idle": "2023-05-26T17:51:47.273931Z",
     "shell.execute_reply": "2023-05-26T17:51:47.273105Z"
    },
    "papermill": {
     "duration": 0.02081,
     "end_time": "2023-05-26T17:51:47.275805",
     "exception": false,
     "start_time": "2023-05-26T17:51:47.254995",
     "status": "completed"
    },
    "tags": []
   },
   "outputs": [
    {
     "name": "stdout",
     "output_type": "stream",
     "text": [
      "You've successfully run some Python code\n",
      "Congratulations!\n",
      "Prueba\n"
     ]
    }
   ],
   "source": [
    "print(\"You've successfully run some Python code\")\n",
    "print(\"Congratulations!\")\n",
    "print(\"Prueba\")"
   ]
  },
  {
   "cell_type": "code",
   "execution_count": null,
   "id": "bfe8e541",
   "metadata": {
    "papermill": {
     "duration": 0.005125,
     "end_time": "2023-05-26T17:51:47.287453",
     "exception": false,
     "start_time": "2023-05-26T17:51:47.282328",
     "status": "completed"
    },
    "tags": []
   },
   "outputs": [],
   "source": []
  },
  {
   "cell_type": "markdown",
   "id": "c7ddd501",
   "metadata": {
    "papermill": {
     "duration": 0.005118,
     "end_time": "2023-05-26T17:51:47.298693",
     "exception": false,
     "start_time": "2023-05-26T17:51:47.293575",
     "status": "completed"
    },
    "tags": []
   },
   "source": [
    "Try adding another line of code in the cell above and re-running it. \n",
    "\n",
    "Now let's get a little fancier:  Add a new code cell by clicking on an existing code cell, hitting the escape key, and then hitting the `a` or `b` key.  The `a` key will add a cell above the current cell, and `b` adds a cell below.\n",
    "\n",
    "Great! Now you know how to use Notebooks.\n",
    "\n",
    "Each hands-on exercise starts by setting up our feedback and code checking mechanism. Run the code cell below to do that. Then you'll be ready to move on to question 0."
   ]
  },
  {
   "cell_type": "code",
   "execution_count": 2,
   "id": "fc806fbb",
   "metadata": {
    "_kg_hide-input": true,
    "_kg_hide-output": true,
    "execution": {
     "iopub.execute_input": "2023-05-26T17:51:47.311116Z",
     "iopub.status.busy": "2023-05-26T17:51:47.310515Z",
     "iopub.status.idle": "2023-05-26T17:51:47.347365Z",
     "shell.execute_reply": "2023-05-26T17:51:47.345938Z"
    },
    "papermill": {
     "duration": 0.045189,
     "end_time": "2023-05-26T17:51:47.349169",
     "exception": false,
     "start_time": "2023-05-26T17:51:47.303980",
     "status": "completed"
    },
    "tags": []
   },
   "outputs": [
    {
     "name": "stdout",
     "output_type": "stream",
     "text": [
      "Setup complete! You're ready to start question 0.\n"
     ]
    }
   ],
   "source": [
    "from learntools.core import binder; binder.bind(globals())\n",
    "from learntools.python.ex1 import *\n",
    "print(\"Setup complete! You're ready to start question 0.\")"
   ]
  },
  {
   "cell_type": "markdown",
   "id": "f8556643",
   "metadata": {
    "papermill": {
     "duration": 0.005141,
     "end_time": "2023-05-26T17:51:47.359860",
     "exception": false,
     "start_time": "2023-05-26T17:51:47.354719",
     "status": "completed"
    },
    "tags": []
   },
   "source": [
    "# 0.\n",
    "\n",
    "*This is a silly question intended as an introduction to the format we use for hands-on exercises throughout all Kaggle courses.*\n",
    "\n",
    "**What is your favorite color? **\n",
    "\n",
    "To complete this question, create a variable called `color` in the cell below with an appropriate value. The function call `q0.check()` (which we've already provided in the cell below) will check your answer."
   ]
  },
  {
   "cell_type": "code",
   "execution_count": 3,
   "id": "1bd1f80c",
   "metadata": {
    "execution": {
     "iopub.execute_input": "2023-05-26T17:51:47.372257Z",
     "iopub.status.busy": "2023-05-26T17:51:47.371711Z",
     "iopub.status.idle": "2023-05-26T17:51:47.380083Z",
     "shell.execute_reply": "2023-05-26T17:51:47.379418Z"
    },
    "papermill": {
     "duration": 0.016536,
     "end_time": "2023-05-26T17:51:47.381709",
     "exception": false,
     "start_time": "2023-05-26T17:51:47.365173",
     "status": "completed"
    },
    "tags": []
   },
   "outputs": [
    {
     "data": {
      "application/javascript": [
       "parent.postMessage({\"jupyterEvent\": \"custom.exercise_interaction\", \"data\": {\"outcomeType\": 1, \"valueTowardsCompletion\": 0.25, \"interactionType\": 1, \"questionType\": 2, \"questionId\": \"0_ExerciseFormatTutorial\", \"learnToolsVersion\": \"0.3.4\", \"failureMessage\": \"\", \"exceptionClass\": \"\", \"trace\": \"\"}}, \"*\")"
      ],
      "text/plain": [
       "<IPython.core.display.Javascript object>"
      ]
     },
     "metadata": {},
     "output_type": "display_data"
    },
    {
     "data": {
      "text/markdown": [
       "<span style=\"color:#33cc33\">Correct:</span> What?! You got it right without needing a hint or anything? Drats. Well hey, you should still continue to the next step to get some practice asking for a hint and checking solutions. (Even though you obviously don't need any help here.)"
      ],
      "text/plain": [
       "Correct: What?! You got it right without needing a hint or anything? Drats. Well hey, you should still continue to the next step to get some practice asking for a hint and checking solutions. (Even though you obviously don't need any help here.)"
      ]
     },
     "metadata": {},
     "output_type": "display_data"
    }
   ],
   "source": [
    "# create a variable called color with an appropriate value on the line below\n",
    "color = \"blue\"\n",
    "____\n",
    "\n",
    "# Check your answer\n",
    "q0.check()"
   ]
  },
  {
   "cell_type": "markdown",
   "id": "f815a73c",
   "metadata": {
    "papermill": {
     "duration": 0.005454,
     "end_time": "2023-05-26T17:51:47.392733",
     "exception": false,
     "start_time": "2023-05-26T17:51:47.387279",
     "status": "completed"
    },
    "tags": []
   },
   "source": [
    "Didn't get the right answer? How do you not even know your own favorite color?!\n",
    "\n",
    "Delete the `#` in the line below to make one of the lines run. You can choose between getting a hint or the full answer by choosing which line to remove the `#` from. \n",
    "\n",
    "Removing the `#` is called uncommenting, because it changes that line from a \"comment\" which Python doesn't run to code, which Python does run."
   ]
  },
  {
   "cell_type": "code",
   "execution_count": 4,
   "id": "4cc576be",
   "metadata": {
    "execution": {
     "iopub.execute_input": "2023-05-26T17:51:47.406027Z",
     "iopub.status.busy": "2023-05-26T17:51:47.405642Z",
     "iopub.status.idle": "2023-05-26T17:51:47.416735Z",
     "shell.execute_reply": "2023-05-26T17:51:47.415873Z"
    },
    "papermill": {
     "duration": 0.020087,
     "end_time": "2023-05-26T17:51:47.418451",
     "exception": false,
     "start_time": "2023-05-26T17:51:47.398364",
     "status": "completed"
    },
    "tags": []
   },
   "outputs": [
    {
     "data": {
      "application/javascript": [
       "parent.postMessage({\"jupyterEvent\": \"custom.exercise_interaction\", \"data\": {\"interactionType\": 2, \"questionType\": 2, \"questionId\": \"0_ExerciseFormatTutorial\", \"learnToolsVersion\": \"0.3.4\", \"valueTowardsCompletion\": 0.0, \"failureMessage\": \"\", \"exceptionClass\": \"\", \"trace\": \"\", \"outcomeType\": 4}}, \"*\")"
      ],
      "text/plain": [
       "<IPython.core.display.Javascript object>"
      ]
     },
     "metadata": {},
     "output_type": "display_data"
    },
    {
     "data": {
      "text/markdown": [
       "<span style=\"color:#3366cc\">Hint:</span> Your favorite color rhymes with *glue*."
      ],
      "text/plain": [
       "Hint: Your favorite color rhymes with *glue*."
      ]
     },
     "metadata": {},
     "output_type": "display_data"
    },
    {
     "data": {
      "application/javascript": [
       "parent.postMessage({\"jupyterEvent\": \"custom.exercise_interaction\", \"data\": {\"interactionType\": 3, \"questionType\": 2, \"questionId\": \"0_ExerciseFormatTutorial\", \"learnToolsVersion\": \"0.3.4\", \"valueTowardsCompletion\": 0.0, \"failureMessage\": \"\", \"exceptionClass\": \"\", \"trace\": \"\", \"outcomeType\": 4}}, \"*\")"
      ],
      "text/plain": [
       "<IPython.core.display.Javascript object>"
      ]
     },
     "metadata": {},
     "output_type": "display_data"
    },
    {
     "data": {
      "text/markdown": [
       "<span style=\"color:#33cc99\">Solution:</span> \n",
       "```python\n",
       "color = \"blue\"\n",
       "```"
      ],
      "text/plain": [
       "Solution: \n",
       "```python\n",
       "color = \"blue\"\n",
       "```"
      ]
     },
     "metadata": {},
     "output_type": "display_data"
    }
   ],
   "source": [
    "q0.hint()\n",
    "q0.solution()"
   ]
  },
  {
   "cell_type": "markdown",
   "id": "65b95198",
   "metadata": {
    "papermill": {
     "duration": 0.005863,
     "end_time": "2023-05-26T17:51:47.430483",
     "exception": false,
     "start_time": "2023-05-26T17:51:47.424620",
     "status": "completed"
    },
    "tags": []
   },
   "source": [
    "The upcoming questions work the same way. The only thing that will change are the question numbers. For the next question, you'll call `q1.check()`, `q1.hint()`, `q1.solution()`, for question 2, you'll call `q2.check()`, and so on."
   ]
  },
  {
   "cell_type": "markdown",
   "id": "e60daf0c",
   "metadata": {
    "papermill": {
     "duration": 0.005837,
     "end_time": "2023-05-26T17:51:47.442288",
     "exception": false,
     "start_time": "2023-05-26T17:51:47.436451",
     "status": "completed"
    },
    "tags": []
   },
   "source": [
    "<hr/>\n",
    "\n",
    "# 1.\n",
    "\n",
    "Complete the code below. In case it's helpful, here is the table of available arithmetic operations:\n",
    "\n",
    "\n",
    "\n",
    "| Operator     | Name           | Description                                            |\n",
    "|--------------|----------------|--------------------------------------------------------|\n",
    "| ``a + b``    | Addition       | Sum of ``a`` and ``b``                                 |\n",
    "| ``a - b``    | Subtraction    | Difference of ``a`` and ``b``                          |\n",
    "| ``a * b``    | Multiplication | Product of ``a`` and ``b``                             |\n",
    "| ``a / b``    | True division  | Quotient of ``a`` and ``b``                            |\n",
    "| ``a // b``   | Floor division | Quotient of ``a`` and ``b``, removing fractional parts |\n",
    "| ``a % b``    | Modulus        | Integer remainder after division of ``a`` by ``b``     |\n",
    "| ``a ** b``   | Exponentiation | ``a`` raised to the power of ``b``                     |\n",
    "| ``-a``       | Negation       | The negative of ``a``                                  |\n",
    "\n",
    "<span style=\"display:none\"></span>\n"
   ]
  },
  {
   "cell_type": "code",
   "execution_count": 5,
   "id": "b1c8046f",
   "metadata": {
    "execution": {
     "iopub.execute_input": "2023-05-26T17:51:47.456232Z",
     "iopub.status.busy": "2023-05-26T17:51:47.455406Z",
     "iopub.status.idle": "2023-05-26T17:51:47.463266Z",
     "shell.execute_reply": "2023-05-26T17:51:47.462446Z"
    },
    "papermill": {
     "duration": 0.016579,
     "end_time": "2023-05-26T17:51:47.464815",
     "exception": false,
     "start_time": "2023-05-26T17:51:47.448236",
     "status": "completed"
    },
    "tags": []
   },
   "outputs": [
    {
     "data": {
      "application/javascript": [
       "parent.postMessage({\"jupyterEvent\": \"custom.exercise_interaction\", \"data\": {\"outcomeType\": 1, \"valueTowardsCompletion\": 0.25, \"interactionType\": 1, \"questionType\": 1, \"questionId\": \"1_CircleArea\", \"learnToolsVersion\": \"0.3.4\", \"failureMessage\": \"\", \"exceptionClass\": \"\", \"trace\": \"\"}}, \"*\")"
      ],
      "text/plain": [
       "<IPython.core.display.Javascript object>"
      ]
     },
     "metadata": {},
     "output_type": "display_data"
    },
    {
     "data": {
      "text/markdown": [
       "<span style=\"color:#33cc33\">Correct</span>"
      ],
      "text/plain": [
       "Correct"
      ]
     },
     "metadata": {},
     "output_type": "display_data"
    }
   ],
   "source": [
    "pi = 3.14159 # approximate\n",
    "diameter = 3\n",
    "\n",
    "# Create a variable called 'radius' equal to half the diameter\n",
    "radius = diameter/2\n",
    "____\n",
    "\n",
    "# Create a variable called 'area', using the formula for the area of a circle: pi times the radius squared\n",
    "area = pi*radius**2\n",
    "____\n",
    "\n",
    "# Check your answer\n",
    "q1.check()"
   ]
  },
  {
   "cell_type": "code",
   "execution_count": 6,
   "id": "8ed64414",
   "metadata": {
    "execution": {
     "iopub.execute_input": "2023-05-26T17:51:47.478839Z",
     "iopub.status.busy": "2023-05-26T17:51:47.478488Z",
     "iopub.status.idle": "2023-05-26T17:51:47.481975Z",
     "shell.execute_reply": "2023-05-26T17:51:47.481190Z"
    },
    "papermill": {
     "duration": 0.012449,
     "end_time": "2023-05-26T17:51:47.483523",
     "exception": false,
     "start_time": "2023-05-26T17:51:47.471074",
     "status": "completed"
    },
    "tags": []
   },
   "outputs": [],
   "source": [
    "# Uncomment and run the lines below if you need help.\n",
    "#q1.hint()\n",
    "#q1.solution()"
   ]
  },
  {
   "cell_type": "markdown",
   "id": "7f5447ec",
   "metadata": {
    "papermill": {
     "duration": 0.005911,
     "end_time": "2023-05-26T17:51:47.495610",
     "exception": false,
     "start_time": "2023-05-26T17:51:47.489699",
     "status": "completed"
    },
    "tags": []
   },
   "source": [
    "<hr/>\n",
    "\n",
    "# 2.\n",
    "\n",
    "Add code to the following cell to swap variables `a` and `b` (so that `a` refers to the object previously referred to by `b` and vice versa)."
   ]
  },
  {
   "cell_type": "code",
   "execution_count": 7,
   "id": "63dc7c20",
   "metadata": {
    "execution": {
     "iopub.execute_input": "2023-05-26T17:51:47.509543Z",
     "iopub.status.busy": "2023-05-26T17:51:47.508680Z",
     "iopub.status.idle": "2023-05-26T17:51:47.516030Z",
     "shell.execute_reply": "2023-05-26T17:51:47.515461Z"
    },
    "papermill": {
     "duration": 0.01606,
     "end_time": "2023-05-26T17:51:47.517678",
     "exception": false,
     "start_time": "2023-05-26T17:51:47.501618",
     "status": "completed"
    },
    "tags": []
   },
   "outputs": [
    {
     "data": {
      "application/javascript": [
       "parent.postMessage({\"jupyterEvent\": \"custom.exercise_interaction\", \"data\": {\"outcomeType\": 1, \"valueTowardsCompletion\": 0.25, \"interactionType\": 1, \"questionType\": 2, \"questionId\": \"2_VariableSwap\", \"learnToolsVersion\": \"0.3.4\", \"failureMessage\": \"\", \"exceptionClass\": \"\", \"trace\": \"\"}}, \"*\")"
      ],
      "text/plain": [
       "<IPython.core.display.Javascript object>"
      ]
     },
     "metadata": {},
     "output_type": "display_data"
    },
    {
     "data": {
      "text/markdown": [
       "<span style=\"color:#33cc33\">Correct:</span> \n",
       "\n",
       "The most straightforward solution is to use a third variable to temporarily store one of the old values. e.g.:\n",
       "\n",
       "    tmp = a\n",
       "    a = b\n",
       "    b = tmp\n",
       "\n",
       "If you've read lots of Python code, you might have seen the following trick to swap two variables in one line:\n",
       "\n",
       "    a, b = b, a\n",
       "\n",
       "We'll demystify this bit of Python magic later when we talk about *tuples*."
      ],
      "text/plain": [
       "Correct: \n",
       "\n",
       "The most straightforward solution is to use a third variable to temporarily store one of the old values. e.g.:\n",
       "\n",
       "    tmp = a\n",
       "    a = b\n",
       "    b = tmp\n",
       "\n",
       "If you've read lots of Python code, you might have seen the following trick to swap two variables in one line:\n",
       "\n",
       "    a, b = b, a\n",
       "\n",
       "We'll demystify this bit of Python magic later when we talk about *tuples*."
      ]
     },
     "metadata": {},
     "output_type": "display_data"
    }
   ],
   "source": [
    "########### Setup code - don't touch this part ######################\n",
    "# If you're curious, these are examples of lists. We'll talk about \n",
    "# them in depth a few lessons from now. For now, just know that they're\n",
    "# yet another type of Python object, like int or float.\n",
    "a = [1, 2, 3]\n",
    "b = [3, 2, 1]\n",
    "q2.store_original_ids()\n",
    "######################################################################\n",
    "\n",
    "# Your code goes here. Swap the values to which a and b refer.\n",
    "# If you get stuck, you can always uncomment one or both of the lines in\n",
    "# the next cell for a hint, or to peek at the solution.\n",
    "\n",
    "######################################################################\n",
    "aaux = a\n",
    "baux = b\n",
    "b = aaux\n",
    "a = baux\n",
    "# Check your answer\n",
    "q2.check()"
   ]
  },
  {
   "cell_type": "code",
   "execution_count": 8,
   "id": "7e149bb5",
   "metadata": {
    "execution": {
     "iopub.execute_input": "2023-05-26T17:51:47.532460Z",
     "iopub.status.busy": "2023-05-26T17:51:47.531678Z",
     "iopub.status.idle": "2023-05-26T17:51:47.535649Z",
     "shell.execute_reply": "2023-05-26T17:51:47.534832Z"
    },
    "papermill": {
     "duration": 0.013687,
     "end_time": "2023-05-26T17:51:47.537860",
     "exception": false,
     "start_time": "2023-05-26T17:51:47.524173",
     "status": "completed"
    },
    "tags": []
   },
   "outputs": [],
   "source": [
    "#q2.hint()"
   ]
  },
  {
   "cell_type": "code",
   "execution_count": 9,
   "id": "ef5caf61",
   "metadata": {
    "execution": {
     "iopub.execute_input": "2023-05-26T17:51:47.553314Z",
     "iopub.status.busy": "2023-05-26T17:51:47.552851Z",
     "iopub.status.idle": "2023-05-26T17:51:47.556263Z",
     "shell.execute_reply": "2023-05-26T17:51:47.555662Z"
    },
    "papermill": {
     "duration": 0.012825,
     "end_time": "2023-05-26T17:51:47.557857",
     "exception": false,
     "start_time": "2023-05-26T17:51:47.545032",
     "status": "completed"
    },
    "tags": []
   },
   "outputs": [],
   "source": [
    "#q2.solution()"
   ]
  },
  {
   "cell_type": "markdown",
   "id": "17cf3183",
   "metadata": {
    "papermill": {
     "duration": 0.006325,
     "end_time": "2023-05-26T17:51:47.570836",
     "exception": false,
     "start_time": "2023-05-26T17:51:47.564511",
     "status": "completed"
    },
    "tags": []
   },
   "source": [
    "<hr/>\n",
    "\n",
    "# 3a.\n",
    "\n",
    "Add parentheses to the following expression so that it evaluates to 1."
   ]
  },
  {
   "cell_type": "code",
   "execution_count": 10,
   "id": "bb497fca",
   "metadata": {
    "execution": {
     "iopub.execute_input": "2023-05-26T17:51:47.585567Z",
     "iopub.status.busy": "2023-05-26T17:51:47.585041Z",
     "iopub.status.idle": "2023-05-26T17:51:47.590386Z",
     "shell.execute_reply": "2023-05-26T17:51:47.589474Z"
    },
    "papermill": {
     "duration": 0.014586,
     "end_time": "2023-05-26T17:51:47.591986",
     "exception": false,
     "start_time": "2023-05-26T17:51:47.577400",
     "status": "completed"
    },
    "tags": []
   },
   "outputs": [
    {
     "data": {
      "text/plain": [
       "1"
      ]
     },
     "execution_count": 10,
     "metadata": {},
     "output_type": "execute_result"
    }
   ],
   "source": [
    "(5 - 3) // 2"
   ]
  },
  {
   "cell_type": "code",
   "execution_count": 11,
   "id": "4f068f1a",
   "metadata": {
    "execution": {
     "iopub.execute_input": "2023-05-26T17:51:47.606904Z",
     "iopub.status.busy": "2023-05-26T17:51:47.606475Z",
     "iopub.status.idle": "2023-05-26T17:51:47.609736Z",
     "shell.execute_reply": "2023-05-26T17:51:47.609195Z"
    },
    "papermill": {
     "duration": 0.012634,
     "end_time": "2023-05-26T17:51:47.611284",
     "exception": false,
     "start_time": "2023-05-26T17:51:47.598650",
     "status": "completed"
    },
    "tags": []
   },
   "outputs": [],
   "source": [
    "#q3.a.hint()"
   ]
  },
  {
   "cell_type": "code",
   "execution_count": 12,
   "id": "2d1dfc39",
   "metadata": {
    "execution": {
     "iopub.execute_input": "2023-05-26T17:51:47.626000Z",
     "iopub.status.busy": "2023-05-26T17:51:47.625745Z",
     "iopub.status.idle": "2023-05-26T17:51:47.632938Z",
     "shell.execute_reply": "2023-05-26T17:51:47.632041Z"
    },
    "papermill": {
     "duration": 0.016475,
     "end_time": "2023-05-26T17:51:47.634553",
     "exception": false,
     "start_time": "2023-05-26T17:51:47.618078",
     "status": "completed"
    },
    "tags": []
   },
   "outputs": [
    {
     "data": {
      "application/javascript": [
       "parent.postMessage({\"jupyterEvent\": \"custom.exercise_interaction\", \"data\": {\"interactionType\": 3, \"questionType\": 4, \"questionId\": \"3.1_ArithmeticParensEasy\", \"learnToolsVersion\": \"0.3.4\", \"valueTowardsCompletion\": 0.0, \"failureMessage\": \"\", \"exceptionClass\": \"\", \"trace\": \"\", \"outcomeType\": 4}}, \"*\")"
      ],
      "text/plain": [
       "<IPython.core.display.Javascript object>"
      ]
     },
     "metadata": {},
     "output_type": "display_data"
    },
    {
     "data": {
      "text/markdown": [
       "<span style=\"color:#33cc99\">Solution:</span> \n",
       "```python\n",
       "(5 - 3) // 2\n",
       "```"
      ],
      "text/plain": [
       "Solution: \n",
       "```python\n",
       "(5 - 3) // 2\n",
       "```"
      ]
     },
     "metadata": {},
     "output_type": "display_data"
    }
   ],
   "source": [
    "# Check your answer (Run this code cell to receive credit!)\n",
    "q3.a.solution()"
   ]
  },
  {
   "cell_type": "markdown",
   "id": "4413106d",
   "metadata": {
    "papermill": {
     "duration": 0.00678,
     "end_time": "2023-05-26T17:51:47.648424",
     "exception": false,
     "start_time": "2023-05-26T17:51:47.641644",
     "status": "completed"
    },
    "tags": []
   },
   "source": [
    "# 3b.  <span title=\"A bit spicy\" style=\"color: darkgreen \">🌶️</span>\n",
    "\n",
    "<small>Questions, like this one, marked a spicy pepper are a bit harder.</small>\n",
    "\n",
    "Add parentheses to the following expression so that it evaluates to 0."
   ]
  },
  {
   "cell_type": "code",
   "execution_count": 13,
   "id": "812d5a02",
   "metadata": {
    "execution": {
     "iopub.execute_input": "2023-05-26T17:51:47.663587Z",
     "iopub.status.busy": "2023-05-26T17:51:47.663289Z",
     "iopub.status.idle": "2023-05-26T17:51:47.669264Z",
     "shell.execute_reply": "2023-05-26T17:51:47.668394Z"
    },
    "papermill": {
     "duration": 0.015643,
     "end_time": "2023-05-26T17:51:47.670895",
     "exception": false,
     "start_time": "2023-05-26T17:51:47.655252",
     "status": "completed"
    },
    "tags": []
   },
   "outputs": [
    {
     "data": {
      "text/plain": [
       "0"
      ]
     },
     "execution_count": 13,
     "metadata": {},
     "output_type": "execute_result"
    }
   ],
   "source": [
    "8 - 3 * 2 - (1 + 1)"
   ]
  },
  {
   "cell_type": "code",
   "execution_count": 14,
   "id": "f4a08625",
   "metadata": {
    "execution": {
     "iopub.execute_input": "2023-05-26T17:51:47.685855Z",
     "iopub.status.busy": "2023-05-26T17:51:47.685603Z",
     "iopub.status.idle": "2023-05-26T17:51:47.689513Z",
     "shell.execute_reply": "2023-05-26T17:51:47.688668Z"
    },
    "papermill": {
     "duration": 0.013306,
     "end_time": "2023-05-26T17:51:47.691179",
     "exception": false,
     "start_time": "2023-05-26T17:51:47.677873",
     "status": "completed"
    },
    "tags": []
   },
   "outputs": [],
   "source": [
    "#q3.b.hint()"
   ]
  },
  {
   "cell_type": "code",
   "execution_count": 15,
   "id": "9109633d",
   "metadata": {
    "execution": {
     "iopub.execute_input": "2023-05-26T17:51:47.706866Z",
     "iopub.status.busy": "2023-05-26T17:51:47.706041Z",
     "iopub.status.idle": "2023-05-26T17:51:47.712945Z",
     "shell.execute_reply": "2023-05-26T17:51:47.712398Z"
    },
    "papermill": {
     "duration": 0.016093,
     "end_time": "2023-05-26T17:51:47.714403",
     "exception": false,
     "start_time": "2023-05-26T17:51:47.698310",
     "status": "completed"
    },
    "tags": []
   },
   "outputs": [
    {
     "data": {
      "application/javascript": [
       "parent.postMessage({\"jupyterEvent\": \"custom.exercise_interaction\", \"data\": {\"interactionType\": 3, \"questionType\": 4, \"questionId\": \"3.2_ArithmeticParensHard\", \"learnToolsVersion\": \"0.3.4\", \"valueTowardsCompletion\": 0.0, \"failureMessage\": \"\", \"exceptionClass\": \"\", \"trace\": \"\", \"outcomeType\": 4}}, \"*\")"
      ],
      "text/plain": [
       "<IPython.core.display.Javascript object>"
      ]
     },
     "metadata": {},
     "output_type": "display_data"
    },
    {
     "data": {
      "text/markdown": [
       "<span style=\"color:#33cc99\">Solution:</span> `(8 - 3) * (2 - (1 + 1))` is one solution. There may be others."
      ],
      "text/plain": [
       "Solution: `(8 - 3) * (2 - (1 + 1))` is one solution. There may be others."
      ]
     },
     "metadata": {},
     "output_type": "display_data"
    }
   ],
   "source": [
    "# Check your answer (Run this code cell to receive credit!)\n",
    "q3.b.solution()"
   ]
  },
  {
   "cell_type": "markdown",
   "id": "cb152943",
   "metadata": {
    "papermill": {
     "duration": 0.007478,
     "end_time": "2023-05-26T17:51:47.729223",
     "exception": false,
     "start_time": "2023-05-26T17:51:47.721745",
     "status": "completed"
    },
    "tags": []
   },
   "source": [
    "<hr/>\n",
    "\n",
    "# 4. \n",
    "Alice, Bob and Carol have agreed to pool their Halloween candy and split it evenly among themselves.\n",
    "For the sake of their friendship, any candies left over will be smashed. For example, if they collectively\n",
    "bring home 91 candies, they'll take 30 each and smash 1.\n",
    "\n",
    "Write an arithmetic expression below to calculate how many candies they must smash for a given haul."
   ]
  },
  {
   "cell_type": "code",
   "execution_count": 16,
   "id": "4836bb83",
   "metadata": {
    "execution": {
     "iopub.execute_input": "2023-05-26T17:51:47.744707Z",
     "iopub.status.busy": "2023-05-26T17:51:47.744463Z",
     "iopub.status.idle": "2023-05-26T17:51:47.750872Z",
     "shell.execute_reply": "2023-05-26T17:51:47.750087Z"
    },
    "papermill": {
     "duration": 0.016462,
     "end_time": "2023-05-26T17:51:47.752829",
     "exception": false,
     "start_time": "2023-05-26T17:51:47.736367",
     "status": "completed"
    },
    "tags": []
   },
   "outputs": [
    {
     "data": {
      "application/javascript": [
       "parent.postMessage({\"jupyterEvent\": \"custom.exercise_interaction\", \"data\": {\"outcomeType\": 1, \"valueTowardsCompletion\": 0.25, \"interactionType\": 1, \"questionType\": 1, \"questionId\": \"4_CandySplitting\", \"learnToolsVersion\": \"0.3.4\", \"failureMessage\": \"\", \"exceptionClass\": \"\", \"trace\": \"\"}}, \"*\")"
      ],
      "text/plain": [
       "<IPython.core.display.Javascript object>"
      ]
     },
     "metadata": {},
     "output_type": "display_data"
    },
    {
     "data": {
      "text/markdown": [
       "<span style=\"color:#33cc33\">Correct</span>"
      ],
      "text/plain": [
       "Correct"
      ]
     },
     "metadata": {},
     "output_type": "display_data"
    }
   ],
   "source": [
    "# Variables representing the number of candies collected by alice, bob, and carol\n",
    "alice_candies = 121\n",
    "bob_candies = 77\n",
    "carol_candies = 109\n",
    "\n",
    "# Your code goes here! Replace the right-hand side of this assignment with an expression\n",
    "# involving alice_candies, bob_candies, and carol_candies\n",
    "to_smash = (alice_candies+bob_candies+carol_candies)%3\n",
    "\n",
    "# Check your answer\n",
    "q4.check()"
   ]
  },
  {
   "cell_type": "code",
   "execution_count": 17,
   "id": "a020a6d0",
   "metadata": {
    "execution": {
     "iopub.execute_input": "2023-05-26T17:51:47.769793Z",
     "iopub.status.busy": "2023-05-26T17:51:47.769473Z",
     "iopub.status.idle": "2023-05-26T17:51:47.773116Z",
     "shell.execute_reply": "2023-05-26T17:51:47.772313Z"
    },
    "papermill": {
     "duration": 0.013843,
     "end_time": "2023-05-26T17:51:47.774781",
     "exception": false,
     "start_time": "2023-05-26T17:51:47.760938",
     "status": "completed"
    },
    "tags": []
   },
   "outputs": [],
   "source": [
    "#q4.hint()\n",
    "#q4.solution()"
   ]
  },
  {
   "cell_type": "markdown",
   "id": "3192d919",
   "metadata": {
    "papermill": {
     "duration": 0.007281,
     "end_time": "2023-05-26T17:51:47.789606",
     "exception": false,
     "start_time": "2023-05-26T17:51:47.782325",
     "status": "completed"
    },
    "tags": []
   },
   "source": [
    "# Keep Going\n",
    "\n",
    "Next up, you'll **[learn to write new functions and understand functions others write](https://www.kaggle.com/colinmorris/functions-and-getting-help)**. This will make you at least 10 times more productive as a Python programmer. "
   ]
  },
  {
   "cell_type": "markdown",
   "id": "98e3b641",
   "metadata": {
    "papermill": {
     "duration": 0.007158,
     "end_time": "2023-05-26T17:51:47.804328",
     "exception": false,
     "start_time": "2023-05-26T17:51:47.797170",
     "status": "completed"
    },
    "tags": []
   },
   "source": [
    "---\n",
    "\n",
    "\n",
    "\n",
    "\n",
    "*Have questions or comments? Visit the [course discussion forum](https://www.kaggle.com/learn/python/discussion) to chat with other learners.*"
   ]
  }
 ],
 "metadata": {
  "kernelspec": {
   "display_name": "Python 3",
   "language": "python",
   "name": "python3"
  },
  "language_info": {
   "codemirror_mode": {
    "name": "ipython",
    "version": 3
   },
   "file_extension": ".py",
   "mimetype": "text/x-python",
   "name": "python",
   "nbconvert_exporter": "python",
   "pygments_lexer": "ipython3",
   "version": "3.10.10"
  },
  "papermill": {
   "default_parameters": {},
   "duration": 9.354281,
   "end_time": "2023-05-26T17:51:48.430999",
   "environment_variables": {},
   "exception": null,
   "input_path": "__notebook__.ipynb",
   "output_path": "__notebook__.ipynb",
   "parameters": {},
   "start_time": "2023-05-26T17:51:39.076718",
   "version": "2.4.0"
  }
 },
 "nbformat": 4,
 "nbformat_minor": 5
}
