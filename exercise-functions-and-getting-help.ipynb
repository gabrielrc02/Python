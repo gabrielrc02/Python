{
 "cells": [
  {
   "cell_type": "markdown",
   "id": "3ed73280",
   "metadata": {
    "papermill": {
     "duration": 0.008031,
     "end_time": "2023-05-26T18:16:09.109060",
     "exception": false,
     "start_time": "2023-05-26T18:16:09.101029",
     "status": "completed"
    },
    "tags": []
   },
   "source": [
    "**This notebook is an exercise in the [Python](https://www.kaggle.com/learn/python) course.  You can reference the tutorial at [this link](https://www.kaggle.com/colinmorris/functions-and-getting-help).**\n",
    "\n",
    "---\n"
   ]
  },
  {
   "cell_type": "markdown",
   "id": "309047ae",
   "metadata": {
    "papermill": {
     "duration": 0.006909,
     "end_time": "2023-05-26T18:16:09.122976",
     "exception": false,
     "start_time": "2023-05-26T18:16:09.116067",
     "status": "completed"
    },
    "tags": []
   },
   "source": [
    "Functions are powerful. Try writing some yourself.\n",
    "\n",
    "As before, don't forget to run the setup code below before jumping into question 1."
   ]
  },
  {
   "cell_type": "code",
   "execution_count": 1,
   "id": "b1ebf761",
   "metadata": {
    "_kg_hide-input": true,
    "_kg_hide-output": true,
    "execution": {
     "iopub.execute_input": "2023-05-26T18:16:09.142071Z",
     "iopub.status.busy": "2023-05-26T18:16:09.141161Z",
     "iopub.status.idle": "2023-05-26T18:16:09.196731Z",
     "shell.execute_reply": "2023-05-26T18:16:09.195601Z"
    },
    "papermill": {
     "duration": 0.069654,
     "end_time": "2023-05-26T18:16:09.199597",
     "exception": false,
     "start_time": "2023-05-26T18:16:09.129943",
     "status": "completed"
    },
    "tags": []
   },
   "outputs": [
    {
     "name": "stdout",
     "output_type": "stream",
     "text": [
      "Setup complete.\n"
     ]
    }
   ],
   "source": [
    "# SETUP. You don't need to worry for now about what this code does or how it works.\n",
    "from learntools.core import binder; binder.bind(globals())\n",
    "from learntools.python.ex2 import *\n",
    "print('Setup complete.')"
   ]
  },
  {
   "cell_type": "markdown",
   "id": "92f9ad3f",
   "metadata": {
    "papermill": {
     "duration": 0.005878,
     "end_time": "2023-05-26T18:16:09.211651",
     "exception": false,
     "start_time": "2023-05-26T18:16:09.205773",
     "status": "completed"
    },
    "tags": []
   },
   "source": [
    "# 1.\n",
    "\n",
    "Complete the body of the following function according to its docstring.\n",
    "\n",
    "HINT: Python has a built-in function `round`."
   ]
  },
  {
   "cell_type": "code",
   "execution_count": 2,
   "id": "322d6442",
   "metadata": {
    "execution": {
     "iopub.execute_input": "2023-05-26T18:16:09.225993Z",
     "iopub.status.busy": "2023-05-26T18:16:09.225617Z",
     "iopub.status.idle": "2023-05-26T18:16:09.238305Z",
     "shell.execute_reply": "2023-05-26T18:16:09.237207Z"
    },
    "papermill": {
     "duration": 0.022768,
     "end_time": "2023-05-26T18:16:09.241009",
     "exception": false,
     "start_time": "2023-05-26T18:16:09.218241",
     "status": "completed"
    },
    "tags": []
   },
   "outputs": [
    {
     "data": {
      "application/javascript": [
       "parent.postMessage({\"jupyterEvent\": \"custom.exercise_interaction\", \"data\": {\"outcomeType\": 1, \"valueTowardsCompletion\": 0.16666666666666666, \"interactionType\": 1, \"questionType\": 2, \"questionId\": \"1_RoundFunctionProblem\", \"learnToolsVersion\": \"0.3.4\", \"failureMessage\": \"\", \"exceptionClass\": \"\", \"trace\": \"\"}}, \"*\")"
      ],
      "text/plain": [
       "<IPython.core.display.Javascript object>"
      ]
     },
     "metadata": {},
     "output_type": "display_data"
    },
    {
     "data": {
      "text/markdown": [
       "<span style=\"color:#33cc33\">Correct</span>"
      ],
      "text/plain": [
       "Correct"
      ]
     },
     "metadata": {},
     "output_type": "display_data"
    }
   ],
   "source": [
    "def round_to_two_places(num):\n",
    "    \"\"\"Return the given number rounded to two decimal places. \n",
    "    \n",
    "    >>> round_to_two_places(3.14159)\n",
    "    3.14\n",
    "    \"\"\"\n",
    "    # Replace this body with your own code.\n",
    "    # (\"pass\" is a keyword that does literally nothing. We used it as a placeholder\n",
    "    # because after we begin a code block, Python requires at least one line of code)\n",
    "    return round(num,2)\n",
    "    pass\n",
    "\n",
    "# Check your answer\n",
    "q1.check()"
   ]
  },
  {
   "cell_type": "code",
   "execution_count": 3,
   "id": "527b2a76",
   "metadata": {
    "execution": {
     "iopub.execute_input": "2023-05-26T18:16:09.258005Z",
     "iopub.status.busy": "2023-05-26T18:16:09.257588Z",
     "iopub.status.idle": "2023-05-26T18:16:09.262264Z",
     "shell.execute_reply": "2023-05-26T18:16:09.261141Z"
    },
    "papermill": {
     "duration": 0.016383,
     "end_time": "2023-05-26T18:16:09.264511",
     "exception": false,
     "start_time": "2023-05-26T18:16:09.248128",
     "status": "completed"
    },
    "tags": []
   },
   "outputs": [],
   "source": [
    "# Uncomment the following for a hint\n",
    "#q1.hint()\n",
    "# Or uncomment the following to peek at the solution\n",
    "#q1.solution()"
   ]
  },
  {
   "cell_type": "markdown",
   "id": "b6479efe",
   "metadata": {
    "papermill": {
     "duration": 0.006297,
     "end_time": "2023-05-26T18:16:09.277967",
     "exception": false,
     "start_time": "2023-05-26T18:16:09.271670",
     "status": "completed"
    },
    "tags": []
   },
   "source": [
    "# 2.\n",
    "The help for `round` says that `ndigits` (the second argument) may be negative.\n",
    "What do you think will happen when it is? Try some examples in the following cell."
   ]
  },
  {
   "cell_type": "code",
   "execution_count": 4,
   "id": "1f0ca26f",
   "metadata": {
    "execution": {
     "iopub.execute_input": "2023-05-26T18:16:09.293253Z",
     "iopub.status.busy": "2023-05-26T18:16:09.292636Z",
     "iopub.status.idle": "2023-05-26T18:16:09.298364Z",
     "shell.execute_reply": "2023-05-26T18:16:09.297238Z"
    },
    "papermill": {
     "duration": 0.016109,
     "end_time": "2023-05-26T18:16:09.300580",
     "exception": false,
     "start_time": "2023-05-26T18:16:09.284471",
     "status": "completed"
    },
    "tags": []
   },
   "outputs": [
    {
     "name": "stdout",
     "output_type": "stream",
     "text": [
      "4300.0\n"
     ]
    }
   ],
   "source": [
    "# Put your test code here\n",
    "print(round(4322.1234,-2))"
   ]
  },
  {
   "cell_type": "markdown",
   "id": "9366e61a",
   "metadata": {
    "papermill": {
     "duration": 0.006291,
     "end_time": "2023-05-26T18:16:09.313405",
     "exception": false,
     "start_time": "2023-05-26T18:16:09.307114",
     "status": "completed"
    },
    "tags": []
   },
   "source": [
    "Can you think of a case where this would be useful?  Once you're ready, run the code cell below to see the answer and to receive credit for completing the problem."
   ]
  },
  {
   "cell_type": "code",
   "execution_count": 5,
   "id": "3c2dbeab",
   "metadata": {
    "execution": {
     "iopub.execute_input": "2023-05-26T18:16:09.328108Z",
     "iopub.status.busy": "2023-05-26T18:16:09.327703Z",
     "iopub.status.idle": "2023-05-26T18:16:09.336409Z",
     "shell.execute_reply": "2023-05-26T18:16:09.335387Z"
    },
    "papermill": {
     "duration": 0.018596,
     "end_time": "2023-05-26T18:16:09.338485",
     "exception": false,
     "start_time": "2023-05-26T18:16:09.319889",
     "status": "completed"
    },
    "tags": []
   },
   "outputs": [
    {
     "data": {
      "application/javascript": [
       "parent.postMessage({\"jupyterEvent\": \"custom.exercise_interaction\", \"data\": {\"interactionType\": 3, \"questionType\": 4, \"questionId\": \"2_RoundNdigitsProblem\", \"learnToolsVersion\": \"0.3.4\", \"valueTowardsCompletion\": 0.0, \"failureMessage\": \"\", \"exceptionClass\": \"\", \"trace\": \"\", \"outcomeType\": 4}}, \"*\")"
      ],
      "text/plain": [
       "<IPython.core.display.Javascript object>"
      ]
     },
     "metadata": {},
     "output_type": "display_data"
    },
    {
     "data": {
      "text/markdown": [
       "<span style=\"color:#33cc99\">Solution:</span> As you've seen, `ndigits=-1` rounds to the nearest 10, `ndigits=-2` rounds to the nearest 100 and so on. Where might this be useful? Suppose we're dealing with large numbers:\n",
       "\n",
       "> The area of Finland is 338,424 km²  \n",
       "> The area of Greenland is 2,166,086 km²\n",
       "\n",
       "We probably don't care whether it's really 338,424, or 338,425, or 338,177. All those digits of accuracy are just distracting. We can chop them off by calling `round()` with `ndigits=-3`:\n",
       "\n",
       "> The area of Finland is 338,000 km²  \n",
       "> The area of Greenland is 2,166,000 km²\n",
       "\n",
       "(We'll talk about how we would get the commas later when we talk about string formatting :))\n"
      ],
      "text/plain": [
       "Solution: As you've seen, `ndigits=-1` rounds to the nearest 10, `ndigits=-2` rounds to the nearest 100 and so on. Where might this be useful? Suppose we're dealing with large numbers:\n",
       "\n",
       "> The area of Finland is 338,424 km²  \n",
       "> The area of Greenland is 2,166,086 km²\n",
       "\n",
       "We probably don't care whether it's really 338,424, or 338,425, or 338,177. All those digits of accuracy are just distracting. We can chop them off by calling `round()` with `ndigits=-3`:\n",
       "\n",
       "> The area of Finland is 338,000 km²  \n",
       "> The area of Greenland is 2,166,000 km²\n",
       "\n",
       "(We'll talk about how we would get the commas later when we talk about string formatting :))"
      ]
     },
     "metadata": {},
     "output_type": "display_data"
    }
   ],
   "source": [
    "# Check your answer (Run this code cell to receive credit!)\n",
    "q2.solution()"
   ]
  },
  {
   "cell_type": "markdown",
   "id": "fc7c1d77",
   "metadata": {
    "papermill": {
     "duration": 0.006809,
     "end_time": "2023-05-26T18:16:09.352217",
     "exception": false,
     "start_time": "2023-05-26T18:16:09.345408",
     "status": "completed"
    },
    "tags": []
   },
   "source": [
    "# 3.\n",
    "\n",
    "In the previous exercise, the candy-sharing friends Alice, Bob and Carol tried to split candies evenly. For the sake of their friendship, any candies left over would be smashed. For example, if they collectively bring home 91 candies, they'll take 30 each and smash 1.\n",
    "\n",
    "Below is a simple function that will calculate the number of candies to smash for *any* number of total candies.\n",
    "\n",
    "Modify it so that it optionally takes a second argument representing the number of friends the candies are being split between. If no second argument is provided, it should assume 3 friends, as before.\n",
    "\n",
    "Update the docstring to reflect this new behaviour."
   ]
  },
  {
   "cell_type": "code",
   "execution_count": 6,
   "id": "86351c24",
   "metadata": {
    "execution": {
     "iopub.execute_input": "2023-05-26T18:16:09.368517Z",
     "iopub.status.busy": "2023-05-26T18:16:09.367789Z",
     "iopub.status.idle": "2023-05-26T18:16:09.375837Z",
     "shell.execute_reply": "2023-05-26T18:16:09.375094Z"
    },
    "papermill": {
     "duration": 0.018634,
     "end_time": "2023-05-26T18:16:09.377931",
     "exception": false,
     "start_time": "2023-05-26T18:16:09.359297",
     "status": "completed"
    },
    "tags": []
   },
   "outputs": [
    {
     "data": {
      "application/javascript": [
       "parent.postMessage({\"jupyterEvent\": \"custom.exercise_interaction\", \"data\": {\"outcomeType\": 1, \"valueTowardsCompletion\": 0.16666666666666666, \"interactionType\": 1, \"questionType\": 2, \"questionId\": \"3_CandySmashingFunctionProblem\", \"learnToolsVersion\": \"0.3.4\", \"failureMessage\": \"\", \"exceptionClass\": \"\", \"trace\": \"\"}}, \"*\")"
      ],
      "text/plain": [
       "<IPython.core.display.Javascript object>"
      ]
     },
     "metadata": {},
     "output_type": "display_data"
    },
    {
     "data": {
      "text/markdown": [
       "<span style=\"color:#33cc33\">Correct</span>"
      ],
      "text/plain": [
       "Correct"
      ]
     },
     "metadata": {},
     "output_type": "display_data"
    }
   ],
   "source": [
    "def to_smash(total_candies,friends=3):\n",
    "    \"\"\"Return the number of leftover candies that must be smashed after distributing\n",
    "    the given number of candies evenly between 3 friends.\n",
    "    \n",
    "    >>> to_smash(91)\n",
    "    1\n",
    "    \"\"\"\n",
    "    return total_candies % friends\n",
    "\n",
    "# Check your answer\n",
    "q3.check()"
   ]
  },
  {
   "cell_type": "code",
   "execution_count": 7,
   "id": "b8378b5b",
   "metadata": {
    "execution": {
     "iopub.execute_input": "2023-05-26T18:16:09.394493Z",
     "iopub.status.busy": "2023-05-26T18:16:09.393770Z",
     "iopub.status.idle": "2023-05-26T18:16:09.397615Z",
     "shell.execute_reply": "2023-05-26T18:16:09.396886Z"
    },
    "papermill": {
     "duration": 0.014411,
     "end_time": "2023-05-26T18:16:09.399575",
     "exception": false,
     "start_time": "2023-05-26T18:16:09.385164",
     "status": "completed"
    },
    "tags": []
   },
   "outputs": [],
   "source": [
    "#q3.hint()"
   ]
  },
  {
   "cell_type": "code",
   "execution_count": 8,
   "id": "7ef6c20b",
   "metadata": {
    "execution": {
     "iopub.execute_input": "2023-05-26T18:16:09.416589Z",
     "iopub.status.busy": "2023-05-26T18:16:09.415753Z",
     "iopub.status.idle": "2023-05-26T18:16:09.420697Z",
     "shell.execute_reply": "2023-05-26T18:16:09.419297Z"
    },
    "papermill": {
     "duration": 0.016081,
     "end_time": "2023-05-26T18:16:09.423078",
     "exception": false,
     "start_time": "2023-05-26T18:16:09.406997",
     "status": "completed"
    },
    "tags": []
   },
   "outputs": [],
   "source": [
    "#q3.solution()"
   ]
  },
  {
   "cell_type": "markdown",
   "id": "95d0f26c",
   "metadata": {
    "papermill": {
     "duration": 0.007099,
     "end_time": "2023-05-26T18:16:09.437687",
     "exception": false,
     "start_time": "2023-05-26T18:16:09.430588",
     "status": "completed"
    },
    "tags": []
   },
   "source": [
    "# 4. (Optional)\n",
    "\n",
    "It may not be fun, but reading and understanding error messages will be an important part of your Python career.\n",
    "\n",
    "Each code cell below contains some commented buggy code. For each cell...\n",
    "\n",
    "1. Read the code and predict what you think will happen when it's run.\n",
    "2. Then uncomment the code and run it to see what happens. (**Tip**: In the kernel editor, you can highlight several lines and press `ctrl`+`/` to toggle commenting.)\n",
    "3. Fix the code (so that it accomplishes its intended purpose without throwing an exception)\n",
    "\n",
    "<!-- TODO: should this be autochecked? Delta is probably pretty small. -->"
   ]
  },
  {
   "cell_type": "code",
   "execution_count": 9,
   "id": "d1fcdf59",
   "metadata": {
    "execution": {
     "iopub.execute_input": "2023-05-26T18:16:09.453954Z",
     "iopub.status.busy": "2023-05-26T18:16:09.453525Z",
     "iopub.status.idle": "2023-05-26T18:16:09.459827Z",
     "shell.execute_reply": "2023-05-26T18:16:09.459036Z"
    },
    "papermill": {
     "duration": 0.016903,
     "end_time": "2023-05-26T18:16:09.461915",
     "exception": false,
     "start_time": "2023-05-26T18:16:09.445012",
     "status": "completed"
    },
    "tags": []
   },
   "outputs": [
    {
     "data": {
      "text/plain": [
       "10.0"
      ]
     },
     "execution_count": 9,
     "metadata": {},
     "output_type": "execute_result"
    }
   ],
   "source": [
    "round_to_two_places(9.9999)"
   ]
  },
  {
   "cell_type": "code",
   "execution_count": 10,
   "id": "1d99730b",
   "metadata": {
    "execution": {
     "iopub.execute_input": "2023-05-26T18:16:09.479046Z",
     "iopub.status.busy": "2023-05-26T18:16:09.478383Z",
     "iopub.status.idle": "2023-05-26T18:16:09.484018Z",
     "shell.execute_reply": "2023-05-26T18:16:09.483031Z"
    },
    "papermill": {
     "duration": 0.016593,
     "end_time": "2023-05-26T18:16:09.486085",
     "exception": false,
     "start_time": "2023-05-26T18:16:09.469492",
     "status": "completed"
    },
    "tags": []
   },
   "outputs": [
    {
     "name": "stdout",
     "output_type": "stream",
     "text": [
      "5\n"
     ]
    }
   ],
   "source": [
    "x = -10\n",
    "y = 5\n",
    "# # Which of the two variables above has the smallest absolute value?\n",
    "smallest_abs = min(abs(x), abs(y))\n",
    "print(smallest_abs)"
   ]
  },
  {
   "cell_type": "code",
   "execution_count": 11,
   "id": "9cb3afcd",
   "metadata": {
    "execution": {
     "iopub.execute_input": "2023-05-26T18:16:09.503916Z",
     "iopub.status.busy": "2023-05-26T18:16:09.503239Z",
     "iopub.status.idle": "2023-05-26T18:16:09.509531Z",
     "shell.execute_reply": "2023-05-26T18:16:09.508314Z"
    },
    "papermill": {
     "duration": 0.018511,
     "end_time": "2023-05-26T18:16:09.512156",
     "exception": false,
     "start_time": "2023-05-26T18:16:09.493645",
     "status": "completed"
    },
    "tags": []
   },
   "outputs": [
    {
     "name": "stdout",
     "output_type": "stream",
     "text": [
      "5\n"
     ]
    }
   ],
   "source": [
    "def f(x):\n",
    "    y = abs(x)\n",
    "    return y\n",
    "\n",
    "print(f(-5))"
   ]
  },
  {
   "cell_type": "markdown",
   "id": "5f227264",
   "metadata": {
    "papermill": {
     "duration": 0.007407,
     "end_time": "2023-05-26T18:16:09.527381",
     "exception": false,
     "start_time": "2023-05-26T18:16:09.519974",
     "status": "completed"
    },
    "tags": []
   },
   "source": [
    "# Keep Going\n",
    "\n",
    "Nice job with the code. Next up, you'll learn about *conditionals*, which you'll need to **[write interesting programs](https://www.kaggle.com/colinmorris/booleans-and-conditionals)**. "
   ]
  },
  {
   "cell_type": "markdown",
   "id": "f5e8f229",
   "metadata": {
    "papermill": {
     "duration": 0.007231,
     "end_time": "2023-05-26T18:16:09.542209",
     "exception": false,
     "start_time": "2023-05-26T18:16:09.534978",
     "status": "completed"
    },
    "tags": []
   },
   "source": [
    "---\n",
    "\n",
    "\n",
    "\n",
    "\n",
    "*Have questions or comments? Visit the [course discussion forum](https://www.kaggle.com/learn/python/discussion) to chat with other learners.*"
   ]
  }
 ],
 "metadata": {
  "kernelspec": {
   "display_name": "Python 3",
   "language": "python",
   "name": "python3"
  },
  "language_info": {
   "codemirror_mode": {
    "name": "ipython",
    "version": 3
   },
   "file_extension": ".py",
   "mimetype": "text/x-python",
   "name": "python",
   "nbconvert_exporter": "python",
   "pygments_lexer": "ipython3",
   "version": "3.10.10"
  },
  "papermill": {
   "default_parameters": {},
   "duration": 13.189265,
   "end_time": "2023-05-26T18:16:10.472850",
   "environment_variables": {},
   "exception": null,
   "input_path": "__notebook__.ipynb",
   "output_path": "__notebook__.ipynb",
   "parameters": {},
   "start_time": "2023-05-26T18:15:57.283585",
   "version": "2.4.0"
  }
 },
 "nbformat": 4,
 "nbformat_minor": 5
}
