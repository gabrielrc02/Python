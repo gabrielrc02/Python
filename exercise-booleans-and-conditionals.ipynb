{
 "cells": [
  {
   "cell_type": "markdown",
   "id": "9b0d481c",
   "metadata": {
    "papermill": {
     "duration": 0.015154,
     "end_time": "2023-05-27T11:12:32.647365",
     "exception": false,
     "start_time": "2023-05-27T11:12:32.632211",
     "status": "completed"
    },
    "tags": []
   },
   "source": [
    "**This notebook is an exercise in the [Python](https://www.kaggle.com/learn/python) course.  You can reference the tutorial at [this link](https://www.kaggle.com/colinmorris/booleans-and-conditionals).**\n",
    "\n",
    "---\n"
   ]
  },
  {
   "cell_type": "markdown",
   "id": "601d7643",
   "metadata": {
    "papermill": {
     "duration": 0.012108,
     "end_time": "2023-05-27T11:12:32.671993",
     "exception": false,
     "start_time": "2023-05-27T11:12:32.659885",
     "status": "completed"
    },
    "tags": []
   },
   "source": [
    "In this exercise, you'll put to work what you have learned about booleans and conditionals.\n",
    "\n",
    "To get started, **run the setup code below** before writing your own code (and if you leave this notebook and come back later, don't forget to run the setup code again)."
   ]
  },
  {
   "cell_type": "code",
   "execution_count": 1,
   "id": "5219fd04",
   "metadata": {
    "execution": {
     "iopub.execute_input": "2023-05-27T11:12:32.699470Z",
     "iopub.status.busy": "2023-05-27T11:12:32.698899Z",
     "iopub.status.idle": "2023-05-27T11:12:32.757366Z",
     "shell.execute_reply": "2023-05-27T11:12:32.756113Z"
    },
    "papermill": {
     "duration": 0.075768,
     "end_time": "2023-05-27T11:12:32.760107",
     "exception": false,
     "start_time": "2023-05-27T11:12:32.684339",
     "status": "completed"
    },
    "tags": []
   },
   "outputs": [
    {
     "name": "stdout",
     "output_type": "stream",
     "text": [
      "Setup complete.\n"
     ]
    }
   ],
   "source": [
    "from learntools.core import binder; binder.bind(globals())\n",
    "from learntools.python.ex3 import *\n",
    "print('Setup complete.')"
   ]
  },
  {
   "cell_type": "markdown",
   "id": "549f5c7b",
   "metadata": {
    "papermill": {
     "duration": 0.011543,
     "end_time": "2023-05-27T11:12:32.783750",
     "exception": false,
     "start_time": "2023-05-27T11:12:32.772207",
     "status": "completed"
    },
    "tags": []
   },
   "source": [
    "# 1.\n",
    "\n",
    "Many programming languages have [`sign`](https://en.wikipedia.org/wiki/Sign_function) available as a built-in function. Python doesn't, but we can define our own!\n",
    "\n",
    "In the cell below, define a function called `sign` which takes a numerical argument and returns -1 if it's negative, 1 if it's positive, and 0 if it's 0."
   ]
  },
  {
   "cell_type": "code",
   "execution_count": 2,
   "id": "9344ad18",
   "metadata": {
    "execution": {
     "iopub.execute_input": "2023-05-27T11:12:32.809507Z",
     "iopub.status.busy": "2023-05-27T11:12:32.809124Z",
     "iopub.status.idle": "2023-05-27T11:12:32.820412Z",
     "shell.execute_reply": "2023-05-27T11:12:32.819528Z"
    },
    "papermill": {
     "duration": 0.027239,
     "end_time": "2023-05-27T11:12:32.822941",
     "exception": false,
     "start_time": "2023-05-27T11:12:32.795702",
     "status": "completed"
    },
    "tags": []
   },
   "outputs": [
    {
     "data": {
      "application/javascript": [
       "parent.postMessage({\"jupyterEvent\": \"custom.exercise_interaction\", \"data\": {\"outcomeType\": 1, \"valueTowardsCompletion\": 0.2, \"interactionType\": 1, \"questionType\": 2, \"questionId\": \"1_SignFunctionProblem\", \"learnToolsVersion\": \"0.3.4\", \"failureMessage\": \"\", \"exceptionClass\": \"\", \"trace\": \"\"}}, \"*\")"
      ],
      "text/plain": [
       "<IPython.core.display.Javascript object>"
      ]
     },
     "metadata": {},
     "output_type": "display_data"
    },
    {
     "data": {
      "text/markdown": [
       "<span style=\"color:#33cc33\">Correct</span>"
      ],
      "text/plain": [
       "Correct"
      ]
     },
     "metadata": {},
     "output_type": "display_data"
    }
   ],
   "source": [
    "# Your code goes here. Define a function called 'sign'\n",
    "def sign(num):\n",
    "    if(num>0):\n",
    "        return 1\n",
    "    elif(num<0):\n",
    "        return -1\n",
    "    else:\n",
    "        return 0\n",
    "\n",
    "# Check your answer\n",
    "q1.check()"
   ]
  },
  {
   "cell_type": "code",
   "execution_count": 3,
   "id": "2be77cf0",
   "metadata": {
    "execution": {
     "iopub.execute_input": "2023-05-27T11:12:32.850915Z",
     "iopub.status.busy": "2023-05-27T11:12:32.850531Z",
     "iopub.status.idle": "2023-05-27T11:12:32.855781Z",
     "shell.execute_reply": "2023-05-27T11:12:32.854586Z"
    },
    "papermill": {
     "duration": 0.022308,
     "end_time": "2023-05-27T11:12:32.858126",
     "exception": false,
     "start_time": "2023-05-27T11:12:32.835818",
     "status": "completed"
    },
    "tags": []
   },
   "outputs": [],
   "source": [
    "#q1.solution()"
   ]
  },
  {
   "cell_type": "markdown",
   "id": "06de7e58",
   "metadata": {
    "papermill": {
     "duration": 0.012069,
     "end_time": "2023-05-27T11:12:32.882933",
     "exception": false,
     "start_time": "2023-05-27T11:12:32.870864",
     "status": "completed"
    },
    "tags": []
   },
   "source": [
    "# 2.\n",
    "\n",
    "We've decided to add \"logging\" to our `to_smash` function from the previous exercise."
   ]
  },
  {
   "cell_type": "code",
   "execution_count": 4,
   "id": "ada8b24f",
   "metadata": {
    "execution": {
     "iopub.execute_input": "2023-05-27T11:12:32.909948Z",
     "iopub.status.busy": "2023-05-27T11:12:32.909536Z",
     "iopub.status.idle": "2023-05-27T11:12:32.918443Z",
     "shell.execute_reply": "2023-05-27T11:12:32.917320Z"
    },
    "papermill": {
     "duration": 0.025893,
     "end_time": "2023-05-27T11:12:32.921322",
     "exception": false,
     "start_time": "2023-05-27T11:12:32.895429",
     "status": "completed"
    },
    "tags": []
   },
   "outputs": [
    {
     "name": "stdout",
     "output_type": "stream",
     "text": [
      "Splitting 91 candies\n"
     ]
    },
    {
     "data": {
      "text/plain": [
       "1"
      ]
     },
     "execution_count": 4,
     "metadata": {},
     "output_type": "execute_result"
    }
   ],
   "source": [
    "def to_smash(total_candies):\n",
    "    \"\"\"Return the number of leftover candies that must be smashed after distributing\n",
    "    the given number of candies evenly between 3 friends.\n",
    "    \n",
    "    >>> to_smash(91)\n",
    "    1\n",
    "    \"\"\"\n",
    "    print(\"Splitting\", total_candies, \"candies\")\n",
    "    return total_candies % 3\n",
    "\n",
    "to_smash(91)"
   ]
  },
  {
   "cell_type": "markdown",
   "id": "bb2396c1",
   "metadata": {
    "papermill": {
     "duration": 0.012971,
     "end_time": "2023-05-27T11:12:32.947605",
     "exception": false,
     "start_time": "2023-05-27T11:12:32.934634",
     "status": "completed"
    },
    "tags": []
   },
   "source": [
    "What happens if we call it with `total_candies = 1`?"
   ]
  },
  {
   "cell_type": "code",
   "execution_count": 5,
   "id": "b6b96fed",
   "metadata": {
    "execution": {
     "iopub.execute_input": "2023-05-27T11:12:32.974711Z",
     "iopub.status.busy": "2023-05-27T11:12:32.974260Z",
     "iopub.status.idle": "2023-05-27T11:12:32.982262Z",
     "shell.execute_reply": "2023-05-27T11:12:32.980923Z"
    },
    "papermill": {
     "duration": 0.024593,
     "end_time": "2023-05-27T11:12:32.984936",
     "exception": false,
     "start_time": "2023-05-27T11:12:32.960343",
     "status": "completed"
    },
    "tags": []
   },
   "outputs": [
    {
     "name": "stdout",
     "output_type": "stream",
     "text": [
      "Splitting 1 candies\n"
     ]
    },
    {
     "data": {
      "text/plain": [
       "1"
      ]
     },
     "execution_count": 5,
     "metadata": {},
     "output_type": "execute_result"
    }
   ],
   "source": [
    "to_smash(1)"
   ]
  },
  {
   "cell_type": "markdown",
   "id": "04fd9338",
   "metadata": {
    "papermill": {
     "duration": 0.01258,
     "end_time": "2023-05-27T11:12:33.010479",
     "exception": false,
     "start_time": "2023-05-27T11:12:32.997899",
     "status": "completed"
    },
    "tags": []
   },
   "source": [
    "That isn't great grammar!\n",
    "\n",
    "Modify the definition in the cell below to correct the grammar of our print statement. (If there's only one candy, we should use the singular \"candy\" instead of the plural \"candies\")"
   ]
  },
  {
   "cell_type": "code",
   "execution_count": 6,
   "id": "ebc76d0d",
   "metadata": {
    "execution": {
     "iopub.execute_input": "2023-05-27T11:12:33.039173Z",
     "iopub.status.busy": "2023-05-27T11:12:33.038636Z",
     "iopub.status.idle": "2023-05-27T11:12:33.048731Z",
     "shell.execute_reply": "2023-05-27T11:12:33.047610Z"
    },
    "papermill": {
     "duration": 0.027488,
     "end_time": "2023-05-27T11:12:33.050978",
     "exception": false,
     "start_time": "2023-05-27T11:12:33.023490",
     "status": "completed"
    },
    "tags": []
   },
   "outputs": [
    {
     "name": "stdout",
     "output_type": "stream",
     "text": [
      "Splitting 91 candies\n",
      "Splitting 1 candy\n"
     ]
    },
    {
     "data": {
      "text/plain": [
       "1"
      ]
     },
     "execution_count": 6,
     "metadata": {},
     "output_type": "execute_result"
    }
   ],
   "source": [
    "def to_smash(total_candies):\n",
    "    \"\"\"Return the number of leftover candies that must be smashed after distributing\n",
    "    the given number of candies evenly between 3 friends.\n",
    "    \n",
    "    >>> to_smash(91)\n",
    "    1\n",
    "    \"\"\"\n",
    "    if(total_candies == 1):\n",
    "        print(\"Splitting\", total_candies, \"candy\")\n",
    "    else:\n",
    "        print(\"Splitting\", total_candies, \"candies\") \n",
    "    \n",
    "    return total_candies % 3\n",
    "\n",
    "to_smash(91)\n",
    "to_smash(1)"
   ]
  },
  {
   "cell_type": "markdown",
   "id": "4470a8d4",
   "metadata": {
    "papermill": {
     "duration": 0.012819,
     "end_time": "2023-05-27T11:12:33.077424",
     "exception": false,
     "start_time": "2023-05-27T11:12:33.064605",
     "status": "completed"
    },
    "tags": []
   },
   "source": [
    "To get credit for completing this problem, and to see the official answer, run the code cell below."
   ]
  },
  {
   "cell_type": "code",
   "execution_count": 7,
   "id": "35b3d1fc",
   "metadata": {
    "execution": {
     "iopub.execute_input": "2023-05-27T11:12:33.105799Z",
     "iopub.status.busy": "2023-05-27T11:12:33.105375Z",
     "iopub.status.idle": "2023-05-27T11:12:33.113491Z",
     "shell.execute_reply": "2023-05-27T11:12:33.112541Z"
    },
    "papermill": {
     "duration": 0.025168,
     "end_time": "2023-05-27T11:12:33.116094",
     "exception": false,
     "start_time": "2023-05-27T11:12:33.090926",
     "status": "completed"
    },
    "tags": []
   },
   "outputs": [
    {
     "data": {
      "application/javascript": [
       "parent.postMessage({\"jupyterEvent\": \"custom.exercise_interaction\", \"data\": {\"interactionType\": 3, \"questionType\": 4, \"questionId\": \"2_PluralizationProblem\", \"learnToolsVersion\": \"0.3.4\", \"valueTowardsCompletion\": 0.0, \"failureMessage\": \"\", \"exceptionClass\": \"\", \"trace\": \"\", \"outcomeType\": 4}}, \"*\")"
      ],
      "text/plain": [
       "<IPython.core.display.Javascript object>"
      ]
     },
     "metadata": {},
     "output_type": "display_data"
    },
    {
     "data": {
      "text/markdown": [
       "<span style=\"color:#33cc99\">Solution:</span> A straightforward (and totally fine) solution is to replace the original `print` call with:\n",
       "\n",
       "```python\n",
       "if total_candies == 1:\n",
       "    print(\"Splitting 1 candy\")\n",
       "else:\n",
       "    print(\"Splitting\", total_candies, \"candies\")\n",
       "```\n",
       "\n",
       "Here's a slightly more succinct solution using a conditional expression:\n",
       "\n",
       "```python\n",
       "print(\"Splitting\", total_candies, \"candy\" if total_candies == 1 else \"candies\")\n",
       "```"
      ],
      "text/plain": [
       "Solution: A straightforward (and totally fine) solution is to replace the original `print` call with:\n",
       "\n",
       "```python\n",
       "if total_candies == 1:\n",
       "    print(\"Splitting 1 candy\")\n",
       "else:\n",
       "    print(\"Splitting\", total_candies, \"candies\")\n",
       "```\n",
       "\n",
       "Here's a slightly more succinct solution using a conditional expression:\n",
       "\n",
       "```python\n",
       "print(\"Splitting\", total_candies, \"candy\" if total_candies == 1 else \"candies\")\n",
       "```"
      ]
     },
     "metadata": {},
     "output_type": "display_data"
    }
   ],
   "source": [
    "# Check your answer (Run this code cell to receive credit!)\n",
    "q2.solution()"
   ]
  },
  {
   "cell_type": "markdown",
   "id": "a23da848",
   "metadata": {
    "papermill": {
     "duration": 0.013101,
     "end_time": "2023-05-27T11:12:33.143226",
     "exception": false,
     "start_time": "2023-05-27T11:12:33.130125",
     "status": "completed"
    },
    "tags": []
   },
   "source": [
    "# 3. <span title=\"A bit spicy\" style=\"color: darkgreen \">🌶️</span>\n",
    "\n",
    "In the tutorial, we talked about deciding whether we're prepared for the weather. I said that I'm safe from today's weather if...\n",
    "- I have an umbrella...\n",
    "- or if the rain isn't too heavy and I have a hood...\n",
    "- otherwise, I'm still fine unless it's raining *and* it's a workday\n",
    "\n",
    "The function below uses our first attempt at turning this logic into a Python expression. I claimed that there was a bug in that code. Can you find it?\n",
    "\n",
    "To prove that `prepared_for_weather` is buggy, come up with a set of inputs where either:\n",
    "- the function returns `False` (but should have returned `True`), or\n",
    "- the function returned `True` (but should have returned `False`).\n",
    "\n",
    "To get credit for completing this question, your code should return a <font color='#33cc33'>Correct</font> result."
   ]
  },
  {
   "cell_type": "code",
   "execution_count": 8,
   "id": "eccb943b",
   "metadata": {
    "execution": {
     "iopub.execute_input": "2023-05-27T11:12:33.172826Z",
     "iopub.status.busy": "2023-05-27T11:12:33.172439Z",
     "iopub.status.idle": "2023-05-27T11:12:33.184383Z",
     "shell.execute_reply": "2023-05-27T11:12:33.183158Z"
    },
    "papermill": {
     "duration": 0.031062,
     "end_time": "2023-05-27T11:12:33.187688",
     "exception": false,
     "start_time": "2023-05-27T11:12:33.156626",
     "status": "completed"
    },
    "tags": []
   },
   "outputs": [
    {
     "name": "stdout",
     "output_type": "stream",
     "text": [
      "False\n"
     ]
    },
    {
     "data": {
      "application/javascript": [
       "parent.postMessage({\"jupyterEvent\": \"custom.exercise_interaction\", \"data\": {\"outcomeType\": 1, \"valueTowardsCompletion\": 0.2, \"interactionType\": 1, \"questionType\": 1, \"questionId\": \"3_WeatherDebug\", \"learnToolsVersion\": \"0.3.4\", \"failureMessage\": \"\", \"exceptionClass\": \"\", \"trace\": \"\"}}, \"*\")"
      ],
      "text/plain": [
       "<IPython.core.display.Javascript object>"
      ]
     },
     "metadata": {},
     "output_type": "display_data"
    },
    {
     "data": {
      "text/markdown": [
       "<span style=\"color:#33cc33\">Correct:</span> \n",
       "\n",
       "One example of a failing test case is:\n",
       "\n",
       "```python\n",
       "have_umbrella = False\n",
       "rain_level = 0.0\n",
       "have_hood = False\n",
       "is_workday = False\n",
       "```\n",
       "\n",
       "Clearly we're prepared for the weather in this case. It's not raining. Not only that, it's not a workday, so we don't even need to leave the house! But our function will return False on these inputs.\n",
       "\n",
       "The key problem is that Python implictly parenthesizes the last part as:\n",
       "\n",
       "```python\n",
       "(not (rain_level > 0)) and is_workday\n",
       "```\n",
       "\n",
       "Whereas what we were trying to express would look more like:\n",
       "\n",
       "```python\n",
       "not (rain_level > 0 and is_workday)\n",
       "```\n"
      ],
      "text/plain": [
       "Correct: \n",
       "\n",
       "One example of a failing test case is:\n",
       "\n",
       "```python\n",
       "have_umbrella = False\n",
       "rain_level = 0.0\n",
       "have_hood = False\n",
       "is_workday = False\n",
       "```\n",
       "\n",
       "Clearly we're prepared for the weather in this case. It's not raining. Not only that, it's not a workday, so we don't even need to leave the house! But our function will return False on these inputs.\n",
       "\n",
       "The key problem is that Python implictly parenthesizes the last part as:\n",
       "\n",
       "```python\n",
       "(not (rain_level > 0)) and is_workday\n",
       "```\n",
       "\n",
       "Whereas what we were trying to express would look more like:\n",
       "\n",
       "```python\n",
       "not (rain_level > 0 and is_workday)\n",
       "```"
      ]
     },
     "metadata": {},
     "output_type": "display_data"
    }
   ],
   "source": [
    "def prepared_for_weather(have_umbrella, rain_level, have_hood, is_workday):\n",
    "    # Don't change this code. Our goal is just to find the bug, not fix it!\n",
    "    return have_umbrella or rain_level < 5 and have_hood or not rain_level > 0 and is_workday\n",
    "\n",
    "# Change the values of these inputs so they represent a case where prepared_for_weather\n",
    "# returns the wrong answer.\n",
    "have_umbrella = False\n",
    "rain_level = 6\n",
    "have_hood = True\n",
    "is_workday = False\n",
    "\n",
    "# Check what the function returns given the current values of the variables above\n",
    "actual = prepared_for_weather(have_umbrella, rain_level, have_hood, is_workday)\n",
    "print(actual)\n",
    "\n",
    "# Check your answer\n",
    "q3.check()"
   ]
  },
  {
   "cell_type": "code",
   "execution_count": 9,
   "id": "7b6c0a36",
   "metadata": {
    "execution": {
     "iopub.execute_input": "2023-05-27T11:12:33.217915Z",
     "iopub.status.busy": "2023-05-27T11:12:33.217535Z",
     "iopub.status.idle": "2023-05-27T11:12:33.222309Z",
     "shell.execute_reply": "2023-05-27T11:12:33.221047Z"
    },
    "papermill": {
     "duration": 0.02295,
     "end_time": "2023-05-27T11:12:33.224618",
     "exception": false,
     "start_time": "2023-05-27T11:12:33.201668",
     "status": "completed"
    },
    "tags": []
   },
   "outputs": [],
   "source": [
    "#q3.hint()\n",
    "#q3.solution()"
   ]
  },
  {
   "cell_type": "markdown",
   "id": "82b3cbcb",
   "metadata": {
    "papermill": {
     "duration": 0.013663,
     "end_time": "2023-05-27T11:12:33.252227",
     "exception": false,
     "start_time": "2023-05-27T11:12:33.238564",
     "status": "completed"
    },
    "tags": []
   },
   "source": [
    "# 4.\n",
    "\n",
    "The function `is_negative` below is implemented correctly - it returns True if the given number is negative and False otherwise.\n",
    "\n",
    "However, it's more verbose than it needs to be. We can actually reduce the number of lines of code in this function by *75%* while keeping the same behaviour. \n",
    "\n",
    "See if you can come up with an equivalent body that uses just **one line** of code, and put it in the function `concise_is_negative`. (HINT: you don't even need Python's ternary syntax)"
   ]
  },
  {
   "cell_type": "code",
   "execution_count": 10,
   "id": "5fb0e51d",
   "metadata": {
    "execution": {
     "iopub.execute_input": "2023-05-27T11:12:33.281753Z",
     "iopub.status.busy": "2023-05-27T11:12:33.281366Z",
     "iopub.status.idle": "2023-05-27T11:12:33.291625Z",
     "shell.execute_reply": "2023-05-27T11:12:33.290508Z"
    },
    "papermill": {
     "duration": 0.027625,
     "end_time": "2023-05-27T11:12:33.293807",
     "exception": false,
     "start_time": "2023-05-27T11:12:33.266182",
     "status": "completed"
    },
    "tags": []
   },
   "outputs": [
    {
     "data": {
      "application/javascript": [
       "parent.postMessage({\"jupyterEvent\": \"custom.exercise_interaction\", \"data\": {\"outcomeType\": 1, \"valueTowardsCompletion\": 0.2, \"interactionType\": 1, \"questionType\": 2, \"questionId\": \"4_ConciseIsNegative\", \"learnToolsVersion\": \"0.3.4\", \"failureMessage\": \"\", \"exceptionClass\": \"\", \"trace\": \"\"}}, \"*\")"
      ],
      "text/plain": [
       "<IPython.core.display.Javascript object>"
      ]
     },
     "metadata": {},
     "output_type": "display_data"
    },
    {
     "data": {
      "text/markdown": [
       "<span style=\"color:#33cc33\">Correct</span>"
      ],
      "text/plain": [
       "Correct"
      ]
     },
     "metadata": {},
     "output_type": "display_data"
    }
   ],
   "source": [
    "def is_negative(number):\n",
    "    if number < 0:\n",
    "        return True\n",
    "    else:\n",
    "        return False\n",
    "\n",
    "def concise_is_negative(number):\n",
    "    pass # Your code goes here (try to keep it to one line!)\n",
    "    return number<0\n",
    "\n",
    "# Check your answer\n",
    "q4.check()"
   ]
  },
  {
   "cell_type": "code",
   "execution_count": 11,
   "id": "fae78738",
   "metadata": {
    "execution": {
     "iopub.execute_input": "2023-05-27T11:12:33.324394Z",
     "iopub.status.busy": "2023-05-27T11:12:33.323867Z",
     "iopub.status.idle": "2023-05-27T11:12:33.329429Z",
     "shell.execute_reply": "2023-05-27T11:12:33.328147Z"
    },
    "papermill": {
     "duration": 0.023822,
     "end_time": "2023-05-27T11:12:33.332111",
     "exception": false,
     "start_time": "2023-05-27T11:12:33.308289",
     "status": "completed"
    },
    "tags": []
   },
   "outputs": [],
   "source": [
    "#q4.hint()\n",
    "#q4.solution()"
   ]
  },
  {
   "cell_type": "markdown",
   "id": "497f3f41",
   "metadata": {
    "papermill": {
     "duration": 0.013938,
     "end_time": "2023-05-27T11:12:33.360657",
     "exception": false,
     "start_time": "2023-05-27T11:12:33.346719",
     "status": "completed"
    },
    "tags": []
   },
   "source": [
    "# 5a.\n",
    "\n",
    "The boolean variables `ketchup`, `mustard` and `onion` represent whether a customer wants a particular topping on their hot dog. We want to implement a number of boolean functions that correspond to some yes-or-no questions about the customer's order. For example:"
   ]
  },
  {
   "cell_type": "code",
   "execution_count": 12,
   "id": "df47be81",
   "metadata": {
    "execution": {
     "iopub.execute_input": "2023-05-27T11:12:33.392105Z",
     "iopub.status.busy": "2023-05-27T11:12:33.391314Z",
     "iopub.status.idle": "2023-05-27T11:12:33.396487Z",
     "shell.execute_reply": "2023-05-27T11:12:33.395648Z"
    },
    "papermill": {
     "duration": 0.023728,
     "end_time": "2023-05-27T11:12:33.398903",
     "exception": false,
     "start_time": "2023-05-27T11:12:33.375175",
     "status": "completed"
    },
    "tags": []
   },
   "outputs": [],
   "source": [
    "def onionless(ketchup, mustard, onion):\n",
    "    \"\"\"Return whether the customer doesn't want onions.\n",
    "    \"\"\"\n",
    "    return not onion"
   ]
  },
  {
   "cell_type": "code",
   "execution_count": 13,
   "id": "8b777455",
   "metadata": {
    "execution": {
     "iopub.execute_input": "2023-05-27T11:12:33.429245Z",
     "iopub.status.busy": "2023-05-27T11:12:33.428840Z",
     "iopub.status.idle": "2023-05-27T11:12:33.437801Z",
     "shell.execute_reply": "2023-05-27T11:12:33.436752Z"
    },
    "papermill": {
     "duration": 0.026893,
     "end_time": "2023-05-27T11:12:33.440042",
     "exception": false,
     "start_time": "2023-05-27T11:12:33.413149",
     "status": "completed"
    },
    "tags": []
   },
   "outputs": [
    {
     "data": {
      "application/javascript": [
       "parent.postMessage({\"jupyterEvent\": \"custom.exercise_interaction\", \"data\": {\"outcomeType\": 1, \"valueTowardsCompletion\": 0.2, \"interactionType\": 1, \"questionType\": 2, \"questionId\": \"5.1_AllToppings\", \"learnToolsVersion\": \"0.3.4\", \"failureMessage\": \"\", \"exceptionClass\": \"\", \"trace\": \"\"}}, \"*\")"
      ],
      "text/plain": [
       "<IPython.core.display.Javascript object>"
      ]
     },
     "metadata": {},
     "output_type": "display_data"
    },
    {
     "data": {
      "text/markdown": [
       "<span style=\"color:#33cc33\">Correct</span>"
      ],
      "text/plain": [
       "Correct"
      ]
     },
     "metadata": {},
     "output_type": "display_data"
    }
   ],
   "source": [
    "def wants_all_toppings(ketchup, mustard, onion):\n",
    "    \"\"\"Return whether the customer wants \"the works\" (all 3 toppings)\n",
    "    \"\"\"\n",
    "    pass\n",
    "    return ketchup and mustard and onion\n",
    "\n",
    "# Check your answer\n",
    "q5.a.check()"
   ]
  },
  {
   "cell_type": "code",
   "execution_count": 14,
   "id": "779306ad",
   "metadata": {
    "execution": {
     "iopub.execute_input": "2023-05-27T11:12:33.470954Z",
     "iopub.status.busy": "2023-05-27T11:12:33.470251Z",
     "iopub.status.idle": "2023-05-27T11:12:33.474874Z",
     "shell.execute_reply": "2023-05-27T11:12:33.473808Z"
    },
    "papermill": {
     "duration": 0.022424,
     "end_time": "2023-05-27T11:12:33.477013",
     "exception": false,
     "start_time": "2023-05-27T11:12:33.454589",
     "status": "completed"
    },
    "tags": []
   },
   "outputs": [],
   "source": [
    "#q5.a.hint()\n",
    "#q5.a.solution()"
   ]
  },
  {
   "cell_type": "markdown",
   "id": "7beae313",
   "metadata": {
    "papermill": {
     "duration": 0.014406,
     "end_time": "2023-05-27T11:12:33.506277",
     "exception": false,
     "start_time": "2023-05-27T11:12:33.491871",
     "status": "completed"
    },
    "tags": []
   },
   "source": [
    "# 5b.\n",
    "\n",
    "For the next function, fill in the body to match the English description in the docstring. "
   ]
  },
  {
   "cell_type": "code",
   "execution_count": 15,
   "id": "ededbc76",
   "metadata": {
    "execution": {
     "iopub.execute_input": "2023-05-27T11:12:33.537882Z",
     "iopub.status.busy": "2023-05-27T11:12:33.536721Z",
     "iopub.status.idle": "2023-05-27T11:12:33.547517Z",
     "shell.execute_reply": "2023-05-27T11:12:33.546441Z"
    },
    "papermill": {
     "duration": 0.028998,
     "end_time": "2023-05-27T11:12:33.549874",
     "exception": false,
     "start_time": "2023-05-27T11:12:33.520876",
     "status": "completed"
    },
    "tags": []
   },
   "outputs": [
    {
     "data": {
      "application/javascript": [
       "parent.postMessage({\"jupyterEvent\": \"custom.exercise_interaction\", \"data\": {\"outcomeType\": 1, \"valueTowardsCompletion\": 0.2, \"interactionType\": 1, \"questionType\": 2, \"questionId\": \"5.2_PlainDog\", \"learnToolsVersion\": \"0.3.4\", \"failureMessage\": \"\", \"exceptionClass\": \"\", \"trace\": \"\"}}, \"*\")"
      ],
      "text/plain": [
       "<IPython.core.display.Javascript object>"
      ]
     },
     "metadata": {},
     "output_type": "display_data"
    },
    {
     "data": {
      "text/markdown": [
       "<span style=\"color:#33cc33\">Correct:</span> \n",
       "\n",
       "One solution looks like:\n",
       "```python\n",
       "return not ketchup and not mustard and not onion\n",
       "```\n",
       "\n",
       "We can also [\"factor out\" the nots](https://en.wikipedia.org/wiki/De_Morgan%27s_laws) to get:\n",
       "\n",
       "```python\n",
       "return not (ketchup or mustard or onion)\n",
       "```"
      ],
      "text/plain": [
       "Correct: \n",
       "\n",
       "One solution looks like:\n",
       "```python\n",
       "return not ketchup and not mustard and not onion\n",
       "```\n",
       "\n",
       "We can also [\"factor out\" the nots](https://en.wikipedia.org/wiki/De_Morgan%27s_laws) to get:\n",
       "\n",
       "```python\n",
       "return not (ketchup or mustard or onion)\n",
       "```"
      ]
     },
     "metadata": {},
     "output_type": "display_data"
    }
   ],
   "source": [
    "def wants_plain_hotdog(ketchup, mustard, onion):\n",
    "    \"\"\"Return whether the customer wants a plain hot dog with no toppings.\n",
    "    \"\"\"\n",
    "    pass\n",
    "    return not(ketchup or mustard or onion)\n",
    "\n",
    "# Check your answer\n",
    "q5.b.check()"
   ]
  },
  {
   "cell_type": "code",
   "execution_count": 16,
   "id": "38f53db6",
   "metadata": {
    "execution": {
     "iopub.execute_input": "2023-05-27T11:12:33.582163Z",
     "iopub.status.busy": "2023-05-27T11:12:33.581727Z",
     "iopub.status.idle": "2023-05-27T11:12:33.586150Z",
     "shell.execute_reply": "2023-05-27T11:12:33.585006Z"
    },
    "papermill": {
     "duration": 0.023307,
     "end_time": "2023-05-27T11:12:33.588467",
     "exception": false,
     "start_time": "2023-05-27T11:12:33.565160",
     "status": "completed"
    },
    "tags": []
   },
   "outputs": [],
   "source": [
    "#q5.b.hint()\n",
    "#q5.b.solution()"
   ]
  },
  {
   "cell_type": "markdown",
   "id": "6c10ebcb",
   "metadata": {
    "papermill": {
     "duration": 0.01473,
     "end_time": "2023-05-27T11:12:33.619092",
     "exception": false,
     "start_time": "2023-05-27T11:12:33.604362",
     "status": "completed"
    },
    "tags": []
   },
   "source": [
    "# 5c.\n",
    "\n",
    "You know what to do: for the next function, fill in the body to match the English description in the docstring."
   ]
  },
  {
   "cell_type": "code",
   "execution_count": 17,
   "id": "06f015b2",
   "metadata": {
    "execution": {
     "iopub.execute_input": "2023-05-27T11:12:33.652327Z",
     "iopub.status.busy": "2023-05-27T11:12:33.651040Z",
     "iopub.status.idle": "2023-05-27T11:12:33.661707Z",
     "shell.execute_reply": "2023-05-27T11:12:33.660533Z"
    },
    "papermill": {
     "duration": 0.030207,
     "end_time": "2023-05-27T11:12:33.664239",
     "exception": false,
     "start_time": "2023-05-27T11:12:33.634032",
     "status": "completed"
    },
    "tags": []
   },
   "outputs": [
    {
     "data": {
      "application/javascript": [
       "parent.postMessage({\"jupyterEvent\": \"custom.exercise_interaction\", \"data\": {\"outcomeType\": 1, \"valueTowardsCompletion\": 0.2, \"interactionType\": 1, \"questionType\": 2, \"questionId\": \"5.3_OneSauce\", \"learnToolsVersion\": \"0.3.4\", \"failureMessage\": \"\", \"exceptionClass\": \"\", \"trace\": \"\"}}, \"*\")"
      ],
      "text/plain": [
       "<IPython.core.display.Javascript object>"
      ]
     },
     "metadata": {},
     "output_type": "display_data"
    },
    {
     "data": {
      "text/markdown": [
       "<span style=\"color:#33cc33\">Correct</span>"
      ],
      "text/plain": [
       "Correct"
      ]
     },
     "metadata": {},
     "output_type": "display_data"
    }
   ],
   "source": [
    "def exactly_one_sauce(ketchup, mustard, onion):\n",
    "    \"\"\"Return whether the customer wants either ketchup or mustard, but not both.\n",
    "    (You may be familiar with this operation under the name \"exclusive or\")\n",
    "    \"\"\"\n",
    "    pass\n",
    "    return (ketchup and not mustard) or (mustard and not ketchup)\n",
    "\n",
    "# Check your answer\n",
    "q5.c.check()"
   ]
  },
  {
   "cell_type": "code",
   "execution_count": 18,
   "id": "f7a9c758",
   "metadata": {
    "execution": {
     "iopub.execute_input": "2023-05-27T11:12:33.697566Z",
     "iopub.status.busy": "2023-05-27T11:12:33.697132Z",
     "iopub.status.idle": "2023-05-27T11:12:33.701990Z",
     "shell.execute_reply": "2023-05-27T11:12:33.700847Z"
    },
    "papermill": {
     "duration": 0.024104,
     "end_time": "2023-05-27T11:12:33.704282",
     "exception": false,
     "start_time": "2023-05-27T11:12:33.680178",
     "status": "completed"
    },
    "tags": []
   },
   "outputs": [],
   "source": [
    "#q5.c.hint()\n",
    "#q5.c.solution()"
   ]
  },
  {
   "cell_type": "markdown",
   "id": "54858e0c",
   "metadata": {
    "papermill": {
     "duration": 0.015151,
     "end_time": "2023-05-27T11:12:33.735814",
     "exception": false,
     "start_time": "2023-05-27T11:12:33.720663",
     "status": "completed"
    },
    "tags": []
   },
   "source": [
    "# 6. <span title=\"A bit spicy\" style=\"color: darkgreen \">🌶️</span>\n",
    "\n",
    "We’ve seen that calling `bool()` on an integer returns `False` if it’s equal to 0 and `True` otherwise. What happens if we call `int()` on a bool? Try it out in the notebook cell below.\n",
    "\n",
    "Can you take advantage of this to write a succinct function that corresponds to the English sentence \"does the customer want exactly one topping?\"?"
   ]
  },
  {
   "cell_type": "code",
   "execution_count": 19,
   "id": "a493c04d",
   "metadata": {
    "execution": {
     "iopub.execute_input": "2023-05-27T11:12:33.768934Z",
     "iopub.status.busy": "2023-05-27T11:12:33.768528Z",
     "iopub.status.idle": "2023-05-27T11:12:33.777717Z",
     "shell.execute_reply": "2023-05-27T11:12:33.776774Z"
    },
    "papermill": {
     "duration": 0.028696,
     "end_time": "2023-05-27T11:12:33.779911",
     "exception": false,
     "start_time": "2023-05-27T11:12:33.751215",
     "status": "completed"
    },
    "tags": []
   },
   "outputs": [
    {
     "data": {
      "application/javascript": [
       "parent.postMessage({\"jupyterEvent\": \"custom.exercise_interaction\", \"data\": {\"outcomeType\": 1, \"valueTowardsCompletion\": 0.2, \"interactionType\": 1, \"questionType\": 2, \"questionId\": \"6_OneTopping\", \"learnToolsVersion\": \"0.3.4\", \"failureMessage\": \"\", \"exceptionClass\": \"\", \"trace\": \"\"}}, \"*\")"
      ],
      "text/plain": [
       "<IPython.core.display.Javascript object>"
      ]
     },
     "metadata": {},
     "output_type": "display_data"
    },
    {
     "data": {
      "text/markdown": [
       "<span style=\"color:#33cc33\">Correct:</span> \n",
       "\n",
       "This condition would be pretty complicated to express using just `and`, `or` and `not`, but using boolean-to-integer conversion gives us this short solution:\n",
       "```python\n",
       "return (int(ketchup) + int(mustard) + int(onion)) == 1\n",
       "```\n",
       "\n",
       "Fun fact: we don't technically need to call `int` on the arguments. Just by doing addition with booleans, Python implicitly does the integer conversion. So we could also write...\n",
       "\n",
       "```python\n",
       "return (ketchup + mustard + onion) == 1\n",
       "```"
      ],
      "text/plain": [
       "Correct: \n",
       "\n",
       "This condition would be pretty complicated to express using just `and`, `or` and `not`, but using boolean-to-integer conversion gives us this short solution:\n",
       "```python\n",
       "return (int(ketchup) + int(mustard) + int(onion)) == 1\n",
       "```\n",
       "\n",
       "Fun fact: we don't technically need to call `int` on the arguments. Just by doing addition with booleans, Python implicitly does the integer conversion. So we could also write...\n",
       "\n",
       "```python\n",
       "return (ketchup + mustard + onion) == 1\n",
       "```"
      ]
     },
     "metadata": {},
     "output_type": "display_data"
    }
   ],
   "source": [
    "def exactly_one_topping(ketchup, mustard, onion):\n",
    "    \"\"\"Return whether the customer wants exactly one of the three available toppings\n",
    "    on their hot dog.\n",
    "    \"\"\"\n",
    "    pass\n",
    "    return (ketchup+mustard+onion)==1\n",
    "\n",
    "# Check your answer\n",
    "q6.check()"
   ]
  },
  {
   "cell_type": "code",
   "execution_count": 20,
   "id": "7136804c",
   "metadata": {
    "execution": {
     "iopub.execute_input": "2023-05-27T11:12:33.813856Z",
     "iopub.status.busy": "2023-05-27T11:12:33.812874Z",
     "iopub.status.idle": "2023-05-27T11:12:33.817977Z",
     "shell.execute_reply": "2023-05-27T11:12:33.816581Z"
    },
    "papermill": {
     "duration": 0.024808,
     "end_time": "2023-05-27T11:12:33.820547",
     "exception": false,
     "start_time": "2023-05-27T11:12:33.795739",
     "status": "completed"
    },
    "tags": []
   },
   "outputs": [],
   "source": [
    "#q6.hint()\n",
    "#q6.solution()"
   ]
  },
  {
   "cell_type": "markdown",
   "id": "12c13faa",
   "metadata": {
    "papermill": {
     "duration": 0.016348,
     "end_time": "2023-05-27T11:12:33.852732",
     "exception": false,
     "start_time": "2023-05-27T11:12:33.836384",
     "status": "completed"
    },
    "tags": []
   },
   "source": [
    "# 7. <span title=\"A bit spicy\" style=\"color: darkgreen \">🌶️</span> (Optional)\n",
    "\n",
    "In this problem we'll be working with a simplified version of [blackjack](https://en.wikipedia.org/wiki/Blackjack) (aka twenty-one). In this version there is one player (who you'll control) and a dealer. Play proceeds as follows:\n",
    "\n",
    "- The player is dealt two face-up cards. The dealer is dealt one face-up card.\n",
    "- The player may ask to be dealt another card ('hit') as many times as they wish. If the sum of their cards exceeds 21, they lose the round immediately.\n",
    "- The dealer then deals additional cards to himself until either:\n",
    "    - the sum of the dealer's cards exceeds 21, in which case the player wins the round\n",
    "    - the sum of the dealer's cards is greater than or equal to 17. If the player's total is greater than the dealer's, the player wins. Otherwise, the dealer wins (even in case of a tie).\n",
    "    \n",
    "When calculating the sum of cards, Jack, Queen, and King count for 10. Aces can count as 1 or 11 (when referring to a player's \"total\" above, we mean the largest total that can be made without exceeding 21. So e.g. A+8 = 19, A+8+8 = 17)\n",
    "\n",
    "For this problem, you'll write a function representing the player's decision-making strategy in this game. We've provided a very unintelligent implementation below:"
   ]
  },
  {
   "cell_type": "code",
   "execution_count": 21,
   "id": "5e28cfa8",
   "metadata": {
    "execution": {
     "iopub.execute_input": "2023-05-27T11:12:33.886260Z",
     "iopub.status.busy": "2023-05-27T11:12:33.885854Z",
     "iopub.status.idle": "2023-05-27T11:12:33.891591Z",
     "shell.execute_reply": "2023-05-27T11:12:33.890140Z"
    },
    "papermill": {
     "duration": 0.025377,
     "end_time": "2023-05-27T11:12:33.893944",
     "exception": false,
     "start_time": "2023-05-27T11:12:33.868567",
     "status": "completed"
    },
    "tags": []
   },
   "outputs": [],
   "source": [
    "def should_hit(dealer_total, player_total, player_low_aces, player_high_aces):\n",
    "    \"\"\"Return True if the player should hit (request another card) given the current game\n",
    "    state, or False if the player should stay.\n",
    "    When calculating a hand's total value, we count aces as \"high\" (with value 11) if doing so\n",
    "    doesn't bring the total above 21, otherwise we count them as low (with value 1). \n",
    "    For example, if the player's hand is {A, A, A, 7}, we will count it as 11 + 1 + 1 + 7,\n",
    "    and therefore set player_total=20, player_low_aces=2, player_high_aces=1.\n",
    "    \"\"\"\n",
    "    \n",
    "    return False"
   ]
  },
  {
   "cell_type": "markdown",
   "id": "dcc8dcd5",
   "metadata": {
    "papermill": {
     "duration": 0.015578,
     "end_time": "2023-05-27T11:12:33.925437",
     "exception": false,
     "start_time": "2023-05-27T11:12:33.909859",
     "status": "completed"
    },
    "tags": []
   },
   "source": [
    "This very conservative agent *always* sticks with the hand of two cards that they're dealt.\n",
    "\n",
    "We'll be simulating games between your player agent and our own dealer agent by calling your function.\n",
    "\n",
    "Try running the function below to see an example of a simulated game:"
   ]
  },
  {
   "cell_type": "code",
   "execution_count": 22,
   "id": "05d15588",
   "metadata": {
    "collapsed": true,
    "execution": {
     "iopub.execute_input": "2023-05-27T11:12:33.959323Z",
     "iopub.status.busy": "2023-05-27T11:12:33.958897Z",
     "iopub.status.idle": "2023-05-27T11:12:33.964770Z",
     "shell.execute_reply": "2023-05-27T11:12:33.963507Z"
    },
    "jupyter": {
     "outputs_hidden": true
    },
    "papermill": {
     "duration": 0.026532,
     "end_time": "2023-05-27T11:12:33.967919",
     "exception": false,
     "start_time": "2023-05-27T11:12:33.941387",
     "status": "completed"
    },
    "tags": []
   },
   "outputs": [
    {
     "name": "stdout",
     "output_type": "stream",
     "text": [
      "Player starts with 4 and 9 (total = 13)\n",
      "Dealer starts with J\n",
      "\n",
      "__Player's turn__\n",
      "Player stays\n",
      "\n",
      "__Dealer's turn__\n",
      "Dealer hits and receives 7. (total = 17)\n",
      "Dealer stands.\n",
      "Dealer wins. 17 >= 13\n"
     ]
    }
   ],
   "source": [
    "q7.simulate_one_game()"
   ]
  },
  {
   "cell_type": "markdown",
   "id": "5647df80",
   "metadata": {
    "papermill": {
     "duration": 0.01578,
     "end_time": "2023-05-27T11:12:34.000329",
     "exception": false,
     "start_time": "2023-05-27T11:12:33.984549",
     "status": "completed"
    },
    "tags": []
   },
   "source": [
    "The real test of your agent's mettle is their average win rate over many games. Try calling the function below to simulate 50000 games of blackjack (it may take a couple seconds):"
   ]
  },
  {
   "cell_type": "code",
   "execution_count": 23,
   "id": "2c7e54c6",
   "metadata": {
    "execution": {
     "iopub.execute_input": "2023-05-27T11:12:34.034116Z",
     "iopub.status.busy": "2023-05-27T11:12:34.033700Z",
     "iopub.status.idle": "2023-05-27T11:12:36.173025Z",
     "shell.execute_reply": "2023-05-27T11:12:36.171466Z"
    },
    "papermill": {
     "duration": 2.15931,
     "end_time": "2023-05-27T11:12:36.175676",
     "exception": false,
     "start_time": "2023-05-27T11:12:34.016366",
     "status": "completed"
    },
    "tags": []
   },
   "outputs": [
    {
     "name": "stdout",
     "output_type": "stream",
     "text": [
      "Player won 18988 out of 50000 games (win rate = 38.0%)\n"
     ]
    }
   ],
   "source": [
    "q7.simulate(n_games=50000)"
   ]
  },
  {
   "cell_type": "markdown",
   "id": "ab4d51ce",
   "metadata": {
    "papermill": {
     "duration": 0.015834,
     "end_time": "2023-05-27T11:12:36.207662",
     "exception": false,
     "start_time": "2023-05-27T11:12:36.191828",
     "status": "completed"
    },
    "tags": []
   },
   "source": [
    "Our dumb agent that completely ignores the game state still manages to win shockingly often!\n",
    "\n",
    "Try adding some more smarts to the `should_hit` function and see how it affects the results."
   ]
  },
  {
   "cell_type": "code",
   "execution_count": null,
   "id": "b4e2d256",
   "metadata": {
    "papermill": {
     "duration": 0.015749,
     "end_time": "2023-05-27T11:12:36.239360",
     "exception": false,
     "start_time": "2023-05-27T11:12:36.223611",
     "status": "completed"
    },
    "tags": []
   },
   "outputs": [],
   "source": []
  },
  {
   "cell_type": "code",
   "execution_count": 24,
   "id": "caca65af",
   "metadata": {
    "execution": {
     "iopub.execute_input": "2023-05-27T11:12:36.273270Z",
     "iopub.status.busy": "2023-05-27T11:12:36.272863Z",
     "iopub.status.idle": "2023-05-27T11:12:38.692877Z",
     "shell.execute_reply": "2023-05-27T11:12:38.691240Z"
    },
    "papermill": {
     "duration": 2.440061,
     "end_time": "2023-05-27T11:12:38.695622",
     "exception": false,
     "start_time": "2023-05-27T11:12:36.255561",
     "status": "completed"
    },
    "tags": []
   },
   "outputs": [
    {
     "name": "stdout",
     "output_type": "stream",
     "text": [
      "Player won 20663 out of 50000 games (win rate = 41.3%)\n"
     ]
    }
   ],
   "source": [
    "def should_hit(dealer_total, player_total, player_low_aces, player_high_aces):\n",
    "    \"\"\"Return True if the player should hit (request another card) given the current game\n",
    "    state, or False if the player should stay.\n",
    "    When calculating a hand's total value, we count aces as \"high\" (with value 11) if doing so\n",
    "    doesn't bring the total above 21, otherwise we count them as low (with value 1). \n",
    "    For example, if the player's hand is {A, A, A, 7}, we will count it as 11 + 1 + 1 + 7,\n",
    "    and therefore set player_total=20, player_low_aces=2, player_high_aces=1.\n",
    "    \"\"\"\n",
    "    if(dealer_total > 17 and player_total<dealer_total):\n",
    "        return True\n",
    "    elif (player_total<15):\n",
    "        return True\n",
    "    else:\n",
    "        return False\n",
    "\n",
    "q7.simulate(n_games=50000)"
   ]
  },
  {
   "cell_type": "markdown",
   "id": "3bb20508",
   "metadata": {
    "papermill": {
     "duration": 0.016506,
     "end_time": "2023-05-27T11:12:38.729376",
     "exception": false,
     "start_time": "2023-05-27T11:12:38.712870",
     "status": "completed"
    },
    "tags": []
   },
   "source": [
    "# Keep Going\n",
    "\n",
    "Learn about **[lists and tuples](https://www.kaggle.com/colinmorris/lists)** to handle multiple items of data in a systematic way."
   ]
  },
  {
   "cell_type": "markdown",
   "id": "338d62b7",
   "metadata": {
    "papermill": {
     "duration": 0.015947,
     "end_time": "2023-05-27T11:12:38.762307",
     "exception": false,
     "start_time": "2023-05-27T11:12:38.746360",
     "status": "completed"
    },
    "tags": []
   },
   "source": [
    "---\n",
    "\n",
    "\n",
    "\n",
    "\n",
    "*Have questions or comments? Visit the [course discussion forum](https://www.kaggle.com/learn/python/discussion) to chat with other learners.*"
   ]
  }
 ],
 "metadata": {
  "kernelspec": {
   "display_name": "Python 3",
   "language": "python",
   "name": "python3"
  },
  "language_info": {
   "codemirror_mode": {
    "name": "ipython",
    "version": 3
   },
   "file_extension": ".py",
   "mimetype": "text/x-python",
   "name": "python",
   "nbconvert_exporter": "python",
   "pygments_lexer": "ipython3",
   "version": "3.10.10"
  },
  "papermill": {
   "default_parameters": {},
   "duration": 20.847729,
   "end_time": "2023-05-27T11:12:39.702082",
   "environment_variables": {},
   "exception": null,
   "input_path": "__notebook__.ipynb",
   "output_path": "__notebook__.ipynb",
   "parameters": {},
   "start_time": "2023-05-27T11:12:18.854353",
   "version": "2.4.0"
  }
 },
 "nbformat": 4,
 "nbformat_minor": 5
}
