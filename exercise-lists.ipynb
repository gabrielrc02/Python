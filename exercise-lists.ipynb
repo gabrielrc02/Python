{
 "cells": [
  {
   "cell_type": "markdown",
   "id": "69ba9354",
   "metadata": {
    "papermill": {
     "duration": 0.004852,
     "end_time": "2023-05-27T11:48:18.963779",
     "exception": false,
     "start_time": "2023-05-27T11:48:18.958927",
     "status": "completed"
    },
    "tags": []
   },
   "source": [
    "**This notebook is an exercise in the [Python](https://www.kaggle.com/learn/python) course.  You can reference the tutorial at [this link](https://www.kaggle.com/colinmorris/lists).**\n",
    "\n",
    "---\n"
   ]
  },
  {
   "cell_type": "markdown",
   "id": "d0d21809",
   "metadata": {
    "papermill": {
     "duration": 0.003765,
     "end_time": "2023-05-27T11:48:18.971739",
     "exception": false,
     "start_time": "2023-05-27T11:48:18.967974",
     "status": "completed"
    },
    "tags": []
   },
   "source": [
    "Things get more interesting with lists. You'll apply your new knowledge to solve the questions below. Remember to run the following cell first."
   ]
  },
  {
   "cell_type": "code",
   "execution_count": 1,
   "id": "3a453998",
   "metadata": {
    "execution": {
     "iopub.execute_input": "2023-05-27T11:48:18.981900Z",
     "iopub.status.busy": "2023-05-27T11:48:18.981532Z",
     "iopub.status.idle": "2023-05-27T11:48:19.031294Z",
     "shell.execute_reply": "2023-05-27T11:48:19.029817Z"
    },
    "papermill": {
     "duration": 0.057554,
     "end_time": "2023-05-27T11:48:19.033367",
     "exception": false,
     "start_time": "2023-05-27T11:48:18.975813",
     "status": "completed"
    },
    "tags": []
   },
   "outputs": [
    {
     "name": "stdout",
     "output_type": "stream",
     "text": [
      "Setup complete.\n"
     ]
    }
   ],
   "source": [
    "from learntools.core import binder; binder.bind(globals())\n",
    "from learntools.python.ex4 import *\n",
    "print('Setup complete.')"
   ]
  },
  {
   "cell_type": "markdown",
   "id": "fbcfae2e",
   "metadata": {
    "papermill": {
     "duration": 0.003999,
     "end_time": "2023-05-27T11:48:19.041620",
     "exception": false,
     "start_time": "2023-05-27T11:48:19.037621",
     "status": "completed"
    },
    "tags": []
   },
   "source": [
    "# 1.\n",
    "\n",
    "Complete the function below according to its docstring."
   ]
  },
  {
   "cell_type": "code",
   "execution_count": 2,
   "id": "02b4e4d2",
   "metadata": {
    "execution": {
     "iopub.execute_input": "2023-05-27T11:48:19.052055Z",
     "iopub.status.busy": "2023-05-27T11:48:19.051495Z",
     "iopub.status.idle": "2023-05-27T11:48:19.065248Z",
     "shell.execute_reply": "2023-05-27T11:48:19.063615Z"
    },
    "papermill": {
     "duration": 0.022361,
     "end_time": "2023-05-27T11:48:19.068017",
     "exception": false,
     "start_time": "2023-05-27T11:48:19.045656",
     "status": "completed"
    },
    "tags": []
   },
   "outputs": [
    {
     "data": {
      "application/javascript": [
       "parent.postMessage({\"jupyterEvent\": \"custom.exercise_interaction\", \"data\": {\"outcomeType\": 1, \"valueTowardsCompletion\": 0.2, \"interactionType\": 1, \"questionType\": 2, \"questionId\": \"1_SelectSecondItem\", \"learnToolsVersion\": \"0.3.4\", \"failureMessage\": \"\", \"exceptionClass\": \"\", \"trace\": \"\"}}, \"*\")"
      ],
      "text/plain": [
       "<IPython.core.display.Javascript object>"
      ]
     },
     "metadata": {},
     "output_type": "display_data"
    },
    {
     "data": {
      "text/markdown": [
       "<span style=\"color:#33cc33\">Correct</span>"
      ],
      "text/plain": [
       "Correct"
      ]
     },
     "metadata": {},
     "output_type": "display_data"
    }
   ],
   "source": [
    "def select_second(L):\n",
    "    \"\"\"Return the second element of the given list. If the list has no second\n",
    "    element, return None.\n",
    "    \"\"\"\n",
    "    pass\n",
    "    if(len(L)>1):\n",
    "        return L[1]\n",
    "    else:\n",
    "        return None\n",
    "\n",
    "# Check your answer\n",
    "q1.check()"
   ]
  },
  {
   "cell_type": "code",
   "execution_count": 3,
   "id": "59a6e5e8",
   "metadata": {
    "execution": {
     "iopub.execute_input": "2023-05-27T11:48:19.080342Z",
     "iopub.status.busy": "2023-05-27T11:48:19.079917Z",
     "iopub.status.idle": "2023-05-27T11:48:19.085277Z",
     "shell.execute_reply": "2023-05-27T11:48:19.083621Z"
    },
    "papermill": {
     "duration": 0.014715,
     "end_time": "2023-05-27T11:48:19.087403",
     "exception": false,
     "start_time": "2023-05-27T11:48:19.072688",
     "status": "completed"
    },
    "tags": []
   },
   "outputs": [],
   "source": [
    "#q1.hint()\n",
    "#q1.solution()"
   ]
  },
  {
   "cell_type": "markdown",
   "id": "037d9f5c",
   "metadata": {
    "papermill": {
     "duration": 0.00495,
     "end_time": "2023-05-27T11:48:19.097591",
     "exception": false,
     "start_time": "2023-05-27T11:48:19.092641",
     "status": "completed"
    },
    "tags": []
   },
   "source": [
    "# 2.\n",
    "\n",
    "You are analyzing sports teams.  Members of each team are stored in a list. The Coach is the first name in the list, the captain is the second name in the list, and other players are listed after that. \n",
    "These lists are stored in another list, which starts with the best team and proceeds through the list to the worst team last.  Complete the function below to select the **captain** of the worst team."
   ]
  },
  {
   "cell_type": "code",
   "execution_count": 4,
   "id": "332e56ca",
   "metadata": {
    "execution": {
     "iopub.execute_input": "2023-05-27T11:48:19.109518Z",
     "iopub.status.busy": "2023-05-27T11:48:19.109066Z",
     "iopub.status.idle": "2023-05-27T11:48:19.118369Z",
     "shell.execute_reply": "2023-05-27T11:48:19.117030Z"
    },
    "papermill": {
     "duration": 0.018743,
     "end_time": "2023-05-27T11:48:19.121269",
     "exception": false,
     "start_time": "2023-05-27T11:48:19.102526",
     "status": "completed"
    },
    "tags": []
   },
   "outputs": [
    {
     "data": {
      "application/javascript": [
       "parent.postMessage({\"jupyterEvent\": \"custom.exercise_interaction\", \"data\": {\"outcomeType\": 1, \"valueTowardsCompletion\": 0.2, \"interactionType\": 1, \"questionType\": 2, \"questionId\": \"2_LosingTeamCaptain\", \"learnToolsVersion\": \"0.3.4\", \"failureMessage\": \"\", \"exceptionClass\": \"\", \"trace\": \"\"}}, \"*\")"
      ],
      "text/plain": [
       "<IPython.core.display.Javascript object>"
      ]
     },
     "metadata": {},
     "output_type": "display_data"
    },
    {
     "data": {
      "text/markdown": [
       "<span style=\"color:#33cc33\">Correct</span>"
      ],
      "text/plain": [
       "Correct"
      ]
     },
     "metadata": {},
     "output_type": "display_data"
    }
   ],
   "source": [
    "def losing_team_captain(teams):\n",
    "    \"\"\"Given a list of teams, where each team is a list of names, return the 2nd player (captain)\n",
    "    from the last listed team\n",
    "    \"\"\"\n",
    "    pass\n",
    "    return teams[-1][1]\n",
    "\n",
    "# Check your answer\n",
    "q2.check()"
   ]
  },
  {
   "cell_type": "code",
   "execution_count": 5,
   "id": "e48c95e3",
   "metadata": {
    "execution": {
     "iopub.execute_input": "2023-05-27T11:48:19.137023Z",
     "iopub.status.busy": "2023-05-27T11:48:19.135510Z",
     "iopub.status.idle": "2023-05-27T11:48:19.141011Z",
     "shell.execute_reply": "2023-05-27T11:48:19.139716Z"
    },
    "papermill": {
     "duration": 0.016639,
     "end_time": "2023-05-27T11:48:19.143937",
     "exception": false,
     "start_time": "2023-05-27T11:48:19.127298",
     "status": "completed"
    },
    "tags": []
   },
   "outputs": [],
   "source": [
    "#q2.hint()\n",
    "#q2.solution()"
   ]
  },
  {
   "cell_type": "markdown",
   "id": "eb5753ce",
   "metadata": {
    "papermill": {
     "duration": 0.005025,
     "end_time": "2023-05-27T11:48:19.155402",
     "exception": false,
     "start_time": "2023-05-27T11:48:19.150377",
     "status": "completed"
    },
    "tags": []
   },
   "source": [
    "# 3.\n",
    "\n",
    "The next iteration of Mario Kart will feature an extra-infuriating new item, the *Purple Shell*. When used, it warps the last place racer into first place and the first place racer into last place. Complete the function below to implement the Purple Shell's effect."
   ]
  },
  {
   "cell_type": "code",
   "execution_count": 6,
   "id": "7b17ef29",
   "metadata": {
    "execution": {
     "iopub.execute_input": "2023-05-27T11:48:19.168294Z",
     "iopub.status.busy": "2023-05-27T11:48:19.167921Z",
     "iopub.status.idle": "2023-05-27T11:48:19.177135Z",
     "shell.execute_reply": "2023-05-27T11:48:19.176279Z"
    },
    "papermill": {
     "duration": 0.018805,
     "end_time": "2023-05-27T11:48:19.179154",
     "exception": false,
     "start_time": "2023-05-27T11:48:19.160349",
     "status": "completed"
    },
    "tags": []
   },
   "outputs": [
    {
     "data": {
      "application/javascript": [
       "parent.postMessage({\"jupyterEvent\": \"custom.exercise_interaction\", \"data\": {\"outcomeType\": 1, \"valueTowardsCompletion\": 0.2, \"interactionType\": 1, \"questionType\": 2, \"questionId\": \"3_PurpleShell\", \"learnToolsVersion\": \"0.3.4\", \"failureMessage\": \"\", \"exceptionClass\": \"\", \"trace\": \"\"}}, \"*\")"
      ],
      "text/plain": [
       "<IPython.core.display.Javascript object>"
      ]
     },
     "metadata": {},
     "output_type": "display_data"
    },
    {
     "data": {
      "text/markdown": [
       "<span style=\"color:#33cc33\">Correct</span>"
      ],
      "text/plain": [
       "Correct"
      ]
     },
     "metadata": {},
     "output_type": "display_data"
    }
   ],
   "source": [
    "def purple_shell(racers):\n",
    "    \"\"\"Given a list of racers, set the first place racer (at the front of the list) to last\n",
    "    place and vice versa.\n",
    "    \n",
    "    >>> r = [\"Mario\", \"Bowser\", \"Luigi\"]\n",
    "    >>> purple_shell(r)\n",
    "    >>> r\n",
    "    [\"Luigi\", \"Bowser\", \"Mario\"]\n",
    "    \"\"\"\n",
    "    pass\n",
    "    racers[0], racers[-1] = racers[-1],racers[0]\n",
    "\n",
    "# Check your answer\n",
    "q3.check()"
   ]
  },
  {
   "cell_type": "code",
   "execution_count": 7,
   "id": "d5acb546",
   "metadata": {
    "execution": {
     "iopub.execute_input": "2023-05-27T11:48:19.191827Z",
     "iopub.status.busy": "2023-05-27T11:48:19.191230Z",
     "iopub.status.idle": "2023-05-27T11:48:19.194888Z",
     "shell.execute_reply": "2023-05-27T11:48:19.193796Z"
    },
    "papermill": {
     "duration": 0.012797,
     "end_time": "2023-05-27T11:48:19.197720",
     "exception": false,
     "start_time": "2023-05-27T11:48:19.184923",
     "status": "completed"
    },
    "tags": []
   },
   "outputs": [],
   "source": [
    "#q3.hint()\n",
    "#q3.solution()"
   ]
  },
  {
   "cell_type": "markdown",
   "id": "9b0f9ae8",
   "metadata": {
    "papermill": {
     "duration": 0.004754,
     "end_time": "2023-05-27T11:48:19.207774",
     "exception": false,
     "start_time": "2023-05-27T11:48:19.203020",
     "status": "completed"
    },
    "tags": []
   },
   "source": [
    "# 4.\n",
    "\n",
    "What are the lengths of the following lists? Fill in the variable `lengths` with your predictions. (Try to make a prediction for each list *without* just calling `len()` on it.)"
   ]
  },
  {
   "cell_type": "code",
   "execution_count": 8,
   "id": "db10680d",
   "metadata": {
    "execution": {
     "iopub.execute_input": "2023-05-27T11:48:19.219492Z",
     "iopub.status.busy": "2023-05-27T11:48:19.219125Z",
     "iopub.status.idle": "2023-05-27T11:48:19.229521Z",
     "shell.execute_reply": "2023-05-27T11:48:19.228624Z"
    },
    "papermill": {
     "duration": 0.019464,
     "end_time": "2023-05-27T11:48:19.232260",
     "exception": false,
     "start_time": "2023-05-27T11:48:19.212796",
     "status": "completed"
    },
    "tags": []
   },
   "outputs": [
    {
     "data": {
      "application/javascript": [
       "parent.postMessage({\"jupyterEvent\": \"custom.exercise_interaction\", \"data\": {\"outcomeType\": 1, \"valueTowardsCompletion\": 0.2, \"interactionType\": 1, \"questionType\": 1, \"questionId\": \"4_UnderstandLen\", \"learnToolsVersion\": \"0.3.4\", \"failureMessage\": \"\", \"exceptionClass\": \"\", \"trace\": \"\"}}, \"*\")"
      ],
      "text/plain": [
       "<IPython.core.display.Javascript object>"
      ]
     },
     "metadata": {},
     "output_type": "display_data"
    },
    {
     "data": {
      "text/markdown": [
       "<span style=\"color:#33cc33\">Correct:</span> \n",
       "\n",
       "\n",
       "- a: There are three items in this list. Nothing tricky yet.\n",
       "- b: The list `[2, 3]` counts as a single item. It has one item before it. So we have 2 items in the list\n",
       "- c: The empty list has 0 items\n",
       "- d: The expression is the same as the list `[2, 3]`, which has length 2."
      ],
      "text/plain": [
       "Correct: \n",
       "\n",
       "\n",
       "- a: There are three items in this list. Nothing tricky yet.\n",
       "- b: The list `[2, 3]` counts as a single item. It has one item before it. So we have 2 items in the list\n",
       "- c: The empty list has 0 items\n",
       "- d: The expression is the same as the list `[2, 3]`, which has length 2."
      ]
     },
     "metadata": {},
     "output_type": "display_data"
    }
   ],
   "source": [
    "a = [1, 2, 3]\n",
    "b = [1, [2, 3]]\n",
    "c = []\n",
    "d = [1, 2, 3][1:]\n",
    "\n",
    "# Put your predictions in the list below. Lengths should contain 4 numbers, the\n",
    "# first being the length of a, the second being the length of b and so on.\n",
    "lengths = [3,2,0,2]\n",
    "\n",
    "# Check your answer\n",
    "q4.check()"
   ]
  },
  {
   "cell_type": "code",
   "execution_count": 9,
   "id": "d163d4d3",
   "metadata": {
    "collapsed": true,
    "execution": {
     "iopub.execute_input": "2023-05-27T11:48:19.245508Z",
     "iopub.status.busy": "2023-05-27T11:48:19.245116Z",
     "iopub.status.idle": "2023-05-27T11:48:19.250648Z",
     "shell.execute_reply": "2023-05-27T11:48:19.248995Z"
    },
    "jupyter": {
     "outputs_hidden": true
    },
    "papermill": {
     "duration": 0.015576,
     "end_time": "2023-05-27T11:48:19.253282",
     "exception": false,
     "start_time": "2023-05-27T11:48:19.237706",
     "status": "completed"
    },
    "tags": []
   },
   "outputs": [],
   "source": [
    "# line below provides some explanation\n",
    "#q4.solution()"
   ]
  },
  {
   "cell_type": "markdown",
   "id": "0457644c",
   "metadata": {
    "papermill": {
     "duration": 0.005891,
     "end_time": "2023-05-27T11:48:19.265033",
     "exception": false,
     "start_time": "2023-05-27T11:48:19.259142",
     "status": "completed"
    },
    "tags": []
   },
   "source": [
    "# 5. <span title=\"A bit spicy\" style=\"color: darkgreen \">🌶️</span>\n",
    "\n",
    "We're using lists to record people who attended our party and what order they arrived in. For example, the following list represents a party with 7 guests, in which Adela showed up first and Ford was the last to arrive:\n",
    "\n",
    "    party_attendees = ['Adela', 'Fleda', 'Owen', 'May', 'Mona', 'Gilbert', 'Ford']\n",
    "\n",
    "A guest is considered 'fashionably late' if they arrived after at least half of the party's guests. However, they must not be the very last guest (that's taking it too far). In the above example, Mona and Gilbert are the only guests who were fashionably late.\n",
    "\n",
    "Complete the function below which takes a list of party attendees as well as a person, and tells us whether that person is fashionably late."
   ]
  },
  {
   "cell_type": "code",
   "execution_count": 10,
   "id": "041b43d8",
   "metadata": {
    "execution": {
     "iopub.execute_input": "2023-05-27T11:48:19.276912Z",
     "iopub.status.busy": "2023-05-27T11:48:19.276555Z",
     "iopub.status.idle": "2023-05-27T11:48:19.285135Z",
     "shell.execute_reply": "2023-05-27T11:48:19.284252Z"
    },
    "papermill": {
     "duration": 0.01659,
     "end_time": "2023-05-27T11:48:19.286949",
     "exception": false,
     "start_time": "2023-05-27T11:48:19.270359",
     "status": "completed"
    },
    "tags": []
   },
   "outputs": [
    {
     "data": {
      "application/javascript": [
       "parent.postMessage({\"jupyterEvent\": \"custom.exercise_interaction\", \"data\": {\"outcomeType\": 1, \"valueTowardsCompletion\": 0.2, \"interactionType\": 1, \"questionType\": 2, \"questionId\": \"5_FashionablyLate\", \"learnToolsVersion\": \"0.3.4\", \"failureMessage\": \"\", \"exceptionClass\": \"\", \"trace\": \"\"}}, \"*\")"
      ],
      "text/plain": [
       "<IPython.core.display.Javascript object>"
      ]
     },
     "metadata": {},
     "output_type": "display_data"
    },
    {
     "data": {
      "text/markdown": [
       "<span style=\"color:#33cc33\">Correct</span>"
      ],
      "text/plain": [
       "Correct"
      ]
     },
     "metadata": {},
     "output_type": "display_data"
    }
   ],
   "source": [
    "def fashionably_late(arrivals, name):\n",
    "    \"\"\"Given an ordered list of arrivals to the party and a name, return whether the guest with that\n",
    "    name was fashionably late.\n",
    "    \"\"\"\n",
    "    pass\n",
    "    half = round(len(arrivals)/2)\n",
    "    if((arrivals.index(name)+1)>half and arrivals.index(name)<(len(arrivals)-1)):\n",
    "        return True\n",
    "    else:\n",
    "        return False\n",
    "\n",
    "# Check your answer\n",
    "q5.check()"
   ]
  },
  {
   "cell_type": "code",
   "execution_count": 11,
   "id": "18096135",
   "metadata": {
    "execution": {
     "iopub.execute_input": "2023-05-27T11:48:19.301509Z",
     "iopub.status.busy": "2023-05-27T11:48:19.300891Z",
     "iopub.status.idle": "2023-05-27T11:48:19.304657Z",
     "shell.execute_reply": "2023-05-27T11:48:19.303615Z"
    },
    "papermill": {
     "duration": 0.014998,
     "end_time": "2023-05-27T11:48:19.307483",
     "exception": false,
     "start_time": "2023-05-27T11:48:19.292485",
     "status": "completed"
    },
    "tags": []
   },
   "outputs": [],
   "source": [
    "#q5.hint()\n",
    "#q5.solution()"
   ]
  },
  {
   "cell_type": "markdown",
   "id": "7e9e4559",
   "metadata": {
    "papermill": {
     "duration": 0.005151,
     "end_time": "2023-05-27T11:48:19.318354",
     "exception": false,
     "start_time": "2023-05-27T11:48:19.313203",
     "status": "completed"
    },
    "tags": []
   },
   "source": [
    "# Keep Going\n",
    "\n",
    "That's it for lists and tuples! Now you have the baseline knowledge to **[learn about loops](https://www.kaggle.com/colinmorris/loops-and-list-comprehensions)**, which is where lists and tuples get really interesting. "
   ]
  },
  {
   "cell_type": "markdown",
   "id": "1e669eb5",
   "metadata": {
    "papermill": {
     "duration": 0.005197,
     "end_time": "2023-05-27T11:48:19.329126",
     "exception": false,
     "start_time": "2023-05-27T11:48:19.323929",
     "status": "completed"
    },
    "tags": []
   },
   "source": [
    "---\n",
    "\n",
    "\n",
    "\n",
    "\n",
    "*Have questions or comments? Visit the [course discussion forum](https://www.kaggle.com/learn/python/discussion) to chat with other learners.*"
   ]
  }
 ],
 "metadata": {
  "kernelspec": {
   "display_name": "Python 3",
   "language": "python",
   "name": "python3"
  },
  "language_info": {
   "codemirror_mode": {
    "name": "ipython",
    "version": 3
   },
   "file_extension": ".py",
   "mimetype": "text/x-python",
   "name": "python",
   "nbconvert_exporter": "python",
   "pygments_lexer": "ipython3",
   "version": "3.10.10"
  },
  "papermill": {
   "default_parameters": {},
   "duration": 11.008282,
   "end_time": "2023-05-27T11:48:20.157255",
   "environment_variables": {},
   "exception": null,
   "input_path": "__notebook__.ipynb",
   "output_path": "__notebook__.ipynb",
   "parameters": {},
   "start_time": "2023-05-27T11:48:09.148973",
   "version": "2.4.0"
  }
 },
 "nbformat": 4,
 "nbformat_minor": 5
}
