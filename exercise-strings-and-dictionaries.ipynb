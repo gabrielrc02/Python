{
 "cells": [
  {
   "cell_type": "markdown",
   "id": "bc6605e6",
   "metadata": {
    "papermill": {
     "duration": 0.005797,
     "end_time": "2023-05-29T22:26:29.027413",
     "exception": false,
     "start_time": "2023-05-29T22:26:29.021616",
     "status": "completed"
    },
    "tags": []
   },
   "source": [
    "**This notebook is an exercise in the [Python](https://www.kaggle.com/learn/python) course.  You can reference the tutorial at [this link](https://www.kaggle.com/colinmorris/strings-and-dictionaries).**\n",
    "\n",
    "---\n"
   ]
  },
  {
   "cell_type": "markdown",
   "id": "f6a813ca",
   "metadata": {
    "papermill": {
     "duration": 0.004417,
     "end_time": "2023-05-29T22:26:29.037159",
     "exception": false,
     "start_time": "2023-05-29T22:26:29.032742",
     "status": "completed"
    },
    "tags": []
   },
   "source": [
    "You are almost done with the course. Nice job!\n",
    "\n",
    "We have a couple more interesting problems for you before you go. \n",
    "\n",
    "As always, run the setup code below before working on the questions."
   ]
  },
  {
   "cell_type": "code",
   "execution_count": 1,
   "id": "6e1bf655",
   "metadata": {
    "execution": {
     "iopub.execute_input": "2023-05-29T22:26:29.048427Z",
     "iopub.status.busy": "2023-05-29T22:26:29.047979Z",
     "iopub.status.idle": "2023-05-29T22:26:29.102384Z",
     "shell.execute_reply": "2023-05-29T22:26:29.101439Z"
    },
    "papermill": {
     "duration": 0.062266,
     "end_time": "2023-05-29T22:26:29.104197",
     "exception": false,
     "start_time": "2023-05-29T22:26:29.041931",
     "status": "completed"
    },
    "tags": []
   },
   "outputs": [
    {
     "name": "stdout",
     "output_type": "stream",
     "text": [
      "Setup complete.\n"
     ]
    }
   ],
   "source": [
    "from learntools.core import binder; binder.bind(globals())\n",
    "from learntools.python.ex6 import *\n",
    "print('Setup complete.')"
   ]
  },
  {
   "cell_type": "markdown",
   "id": "5345f850",
   "metadata": {
    "papermill": {
     "duration": 0.004441,
     "end_time": "2023-05-29T22:26:29.113445",
     "exception": false,
     "start_time": "2023-05-29T22:26:29.109004",
     "status": "completed"
    },
    "tags": []
   },
   "source": [
    "Let's start with a string lightning round to warm up. What are the lengths of the strings below?\n",
    "\n",
    "For each of the five strings below, predict what `len()` would return when passed that string. Use the variable `length` to record your answer, then run the cell to check whether you were right.  \n",
    "\n",
    "# 0a."
   ]
  },
  {
   "cell_type": "code",
   "execution_count": 2,
   "id": "2eb7b034",
   "metadata": {
    "execution": {
     "iopub.execute_input": "2023-05-29T22:26:29.124730Z",
     "iopub.status.busy": "2023-05-29T22:26:29.124380Z",
     "iopub.status.idle": "2023-05-29T22:26:29.132172Z",
     "shell.execute_reply": "2023-05-29T22:26:29.131330Z"
    },
    "papermill": {
     "duration": 0.016065,
     "end_time": "2023-05-29T22:26:29.133902",
     "exception": false,
     "start_time": "2023-05-29T22:26:29.117837",
     "status": "completed"
    },
    "tags": []
   },
   "outputs": [
    {
     "data": {
      "application/javascript": [
       "parent.postMessage({\"jupyterEvent\": \"custom.exercise_interaction\", \"data\": {\"outcomeType\": 1, \"valueTowardsCompletion\": 0.3333333333333333, \"interactionType\": 1, \"questionType\": 1, \"questionId\": \"0.1_ZA\", \"learnToolsVersion\": \"0.3.4\", \"failureMessage\": \"\", \"exceptionClass\": \"\", \"trace\": \"\"}}, \"*\")"
      ],
      "text/plain": [
       "<IPython.core.display.Javascript object>"
      ]
     },
     "metadata": {},
     "output_type": "display_data"
    },
    {
     "data": {
      "text/markdown": [
       "<span style=\"color:#33cc33\">Correct:</span> \n",
       "\n",
       "The empty string has length zero. Note that the empty string is also the only string that Python considers as False when converting to boolean."
      ],
      "text/plain": [
       "Correct: \n",
       "\n",
       "The empty string has length zero. Note that the empty string is also the only string that Python considers as False when converting to boolean."
      ]
     },
     "metadata": {},
     "output_type": "display_data"
    }
   ],
   "source": [
    "a = \"\"\n",
    "length = 0\n",
    "q0.a.check()"
   ]
  },
  {
   "cell_type": "markdown",
   "id": "df166ad4",
   "metadata": {
    "papermill": {
     "duration": 0.004494,
     "end_time": "2023-05-29T22:26:29.144541",
     "exception": false,
     "start_time": "2023-05-29T22:26:29.140047",
     "status": "completed"
    },
    "tags": []
   },
   "source": [
    "# 0b."
   ]
  },
  {
   "cell_type": "code",
   "execution_count": 3,
   "id": "c000f38d",
   "metadata": {
    "execution": {
     "iopub.execute_input": "2023-05-29T22:26:29.156528Z",
     "iopub.status.busy": "2023-05-29T22:26:29.156187Z",
     "iopub.status.idle": "2023-05-29T22:26:29.162797Z",
     "shell.execute_reply": "2023-05-29T22:26:29.161926Z"
    },
    "papermill": {
     "duration": 0.015246,
     "end_time": "2023-05-29T22:26:29.164377",
     "exception": false,
     "start_time": "2023-05-29T22:26:29.149131",
     "status": "completed"
    },
    "tags": []
   },
   "outputs": [
    {
     "data": {
      "application/javascript": [
       "parent.postMessage({\"jupyterEvent\": \"custom.exercise_interaction\", \"data\": {\"outcomeType\": 1, \"valueTowardsCompletion\": 0.3333333333333333, \"interactionType\": 1, \"questionType\": 1, \"questionId\": \"0.2_ZB\", \"learnToolsVersion\": \"0.3.4\", \"failureMessage\": \"\", \"exceptionClass\": \"\", \"trace\": \"\"}}, \"*\")"
      ],
      "text/plain": [
       "<IPython.core.display.Javascript object>"
      ]
     },
     "metadata": {},
     "output_type": "display_data"
    },
    {
     "data": {
      "text/markdown": [
       "<span style=\"color:#33cc33\">Correct:</span> \n",
       "\n",
       "Keep in mind Python includes spaces (and punctuation) when counting string length."
      ],
      "text/plain": [
       "Correct: \n",
       "\n",
       "Keep in mind Python includes spaces (and punctuation) when counting string length."
      ]
     },
     "metadata": {},
     "output_type": "display_data"
    }
   ],
   "source": [
    "b = \"it's ok\"\n",
    "length = 7\n",
    "q0.b.check()"
   ]
  },
  {
   "cell_type": "markdown",
   "id": "34823f49",
   "metadata": {
    "papermill": {
     "duration": 0.004703,
     "end_time": "2023-05-29T22:26:29.174295",
     "exception": false,
     "start_time": "2023-05-29T22:26:29.169592",
     "status": "completed"
    },
    "tags": []
   },
   "source": [
    "# 0c."
   ]
  },
  {
   "cell_type": "code",
   "execution_count": 4,
   "id": "a59d5f9f",
   "metadata": {
    "execution": {
     "iopub.execute_input": "2023-05-29T22:26:29.186188Z",
     "iopub.status.busy": "2023-05-29T22:26:29.185606Z",
     "iopub.status.idle": "2023-05-29T22:26:29.192071Z",
     "shell.execute_reply": "2023-05-29T22:26:29.191090Z"
    },
    "papermill": {
     "duration": 0.01469,
     "end_time": "2023-05-29T22:26:29.193977",
     "exception": false,
     "start_time": "2023-05-29T22:26:29.179287",
     "status": "completed"
    },
    "tags": []
   },
   "outputs": [
    {
     "data": {
      "application/javascript": [
       "parent.postMessage({\"jupyterEvent\": \"custom.exercise_interaction\", \"data\": {\"outcomeType\": 1, \"valueTowardsCompletion\": 0.3333333333333333, \"interactionType\": 1, \"questionType\": 1, \"questionId\": \"0.3_ZC\", \"learnToolsVersion\": \"0.3.4\", \"failureMessage\": \"\", \"exceptionClass\": \"\", \"trace\": \"\"}}, \"*\")"
      ],
      "text/plain": [
       "<IPython.core.display.Javascript object>"
      ]
     },
     "metadata": {},
     "output_type": "display_data"
    },
    {
     "data": {
      "text/markdown": [
       "<span style=\"color:#33cc33\">Correct:</span> \n",
       "\n",
       "Even though we use different syntax to create it, the string `c` is identical to `b`. In particular, note that the backslash is not part of the string, so it doesn't contribute to its length."
      ],
      "text/plain": [
       "Correct: \n",
       "\n",
       "Even though we use different syntax to create it, the string `c` is identical to `b`. In particular, note that the backslash is not part of the string, so it doesn't contribute to its length."
      ]
     },
     "metadata": {},
     "output_type": "display_data"
    }
   ],
   "source": [
    "c = 'it\\'s ok'\n",
    "length = 7\n",
    "q0.c.check()"
   ]
  },
  {
   "cell_type": "markdown",
   "id": "b0d79800",
   "metadata": {
    "papermill": {
     "duration": 0.005333,
     "end_time": "2023-05-29T22:26:29.204794",
     "exception": false,
     "start_time": "2023-05-29T22:26:29.199461",
     "status": "completed"
    },
    "tags": []
   },
   "source": [
    "# 0d."
   ]
  },
  {
   "cell_type": "code",
   "execution_count": 5,
   "id": "048fbbfc",
   "metadata": {
    "execution": {
     "iopub.execute_input": "2023-05-29T22:26:29.217341Z",
     "iopub.status.busy": "2023-05-29T22:26:29.216723Z",
     "iopub.status.idle": "2023-05-29T22:26:29.223461Z",
     "shell.execute_reply": "2023-05-29T22:26:29.222546Z"
    },
    "papermill": {
     "duration": 0.014981,
     "end_time": "2023-05-29T22:26:29.225154",
     "exception": false,
     "start_time": "2023-05-29T22:26:29.210173",
     "status": "completed"
    },
    "tags": []
   },
   "outputs": [
    {
     "data": {
      "application/javascript": [
       "parent.postMessage({\"jupyterEvent\": \"custom.exercise_interaction\", \"data\": {\"outcomeType\": 1, \"valueTowardsCompletion\": 0.3333333333333333, \"interactionType\": 1, \"questionType\": 1, \"questionId\": \"0.4_ZD\", \"learnToolsVersion\": \"0.3.4\", \"failureMessage\": \"\", \"exceptionClass\": \"\", \"trace\": \"\"}}, \"*\")"
      ],
      "text/plain": [
       "<IPython.core.display.Javascript object>"
      ]
     },
     "metadata": {},
     "output_type": "display_data"
    },
    {
     "data": {
      "text/markdown": [
       "<span style=\"color:#33cc33\">Correct:</span> \n",
       "\n",
       "The fact that this string was created using triple-quote syntax doesn't make any difference in terms of its content or length. This string is exactly the same as `'hey'`."
      ],
      "text/plain": [
       "Correct: \n",
       "\n",
       "The fact that this string was created using triple-quote syntax doesn't make any difference in terms of its content or length. This string is exactly the same as `'hey'`."
      ]
     },
     "metadata": {},
     "output_type": "display_data"
    }
   ],
   "source": [
    "d = \"\"\"hey\"\"\"\n",
    "length = 3\n",
    "q0.d.check()"
   ]
  },
  {
   "cell_type": "markdown",
   "id": "86710010",
   "metadata": {
    "papermill": {
     "duration": 0.0054,
     "end_time": "2023-05-29T22:26:29.236379",
     "exception": false,
     "start_time": "2023-05-29T22:26:29.230979",
     "status": "completed"
    },
    "tags": []
   },
   "source": [
    "# 0e."
   ]
  },
  {
   "cell_type": "code",
   "execution_count": 6,
   "id": "1549056e",
   "metadata": {
    "execution": {
     "iopub.execute_input": "2023-05-29T22:26:29.249720Z",
     "iopub.status.busy": "2023-05-29T22:26:29.249178Z",
     "iopub.status.idle": "2023-05-29T22:26:29.255193Z",
     "shell.execute_reply": "2023-05-29T22:26:29.254615Z"
    },
    "papermill": {
     "duration": 0.014752,
     "end_time": "2023-05-29T22:26:29.256805",
     "exception": false,
     "start_time": "2023-05-29T22:26:29.242053",
     "status": "completed"
    },
    "tags": []
   },
   "outputs": [
    {
     "data": {
      "application/javascript": [
       "parent.postMessage({\"jupyterEvent\": \"custom.exercise_interaction\", \"data\": {\"outcomeType\": 1, \"valueTowardsCompletion\": 0.3333333333333333, \"interactionType\": 1, \"questionType\": 1, \"questionId\": \"0.5_ZE\", \"learnToolsVersion\": \"0.3.4\", \"failureMessage\": \"\", \"exceptionClass\": \"\", \"trace\": \"\"}}, \"*\")"
      ],
      "text/plain": [
       "<IPython.core.display.Javascript object>"
      ]
     },
     "metadata": {},
     "output_type": "display_data"
    },
    {
     "data": {
      "text/markdown": [
       "<span style=\"color:#33cc33\">Correct:</span> \n",
       "\n",
       "The newline character is just a single character! (Even though we represent it to Python using a combination of two characters.)"
      ],
      "text/plain": [
       "Correct: \n",
       "\n",
       "The newline character is just a single character! (Even though we represent it to Python using a combination of two characters.)"
      ]
     },
     "metadata": {},
     "output_type": "display_data"
    }
   ],
   "source": [
    "e = '\\n'\n",
    "length = 1\n",
    "q0.e.check()"
   ]
  },
  {
   "cell_type": "markdown",
   "id": "7967475c",
   "metadata": {
    "papermill": {
     "duration": 0.005412,
     "end_time": "2023-05-29T22:26:29.267865",
     "exception": false,
     "start_time": "2023-05-29T22:26:29.262453",
     "status": "completed"
    },
    "tags": []
   },
   "source": [
    "# 1.\n",
    "\n",
    "There is a saying that \"Data scientists spend 80% of their time cleaning data, and 20% of their time complaining about cleaning data.\" Let's see if you can write a function to help clean US zip code data. Given a string, it should return whether or not that string represents a valid zip code. For our purposes, a valid zip code is any string consisting of exactly 5 digits.\n",
    "\n",
    "HINT: `str` has a method that will be useful here. Use `help(str)` to review a list of string methods."
   ]
  },
  {
   "cell_type": "code",
   "execution_count": 7,
   "id": "42ac6c54",
   "metadata": {
    "execution": {
     "iopub.execute_input": "2023-05-29T22:26:29.280533Z",
     "iopub.status.busy": "2023-05-29T22:26:29.280000Z",
     "iopub.status.idle": "2023-05-29T22:26:29.286406Z",
     "shell.execute_reply": "2023-05-29T22:26:29.285474Z"
    },
    "papermill": {
     "duration": 0.015151,
     "end_time": "2023-05-29T22:26:29.288384",
     "exception": false,
     "start_time": "2023-05-29T22:26:29.273233",
     "status": "completed"
    },
    "tags": []
   },
   "outputs": [
    {
     "data": {
      "application/javascript": [
       "parent.postMessage({\"jupyterEvent\": \"custom.exercise_interaction\", \"data\": {\"outcomeType\": 1, \"valueTowardsCompletion\": 0.3333333333333333, \"interactionType\": 1, \"questionType\": 2, \"questionId\": \"1_ZipValidator\", \"learnToolsVersion\": \"0.3.4\", \"failureMessage\": \"\", \"exceptionClass\": \"\", \"trace\": \"\"}}, \"*\")"
      ],
      "text/plain": [
       "<IPython.core.display.Javascript object>"
      ]
     },
     "metadata": {},
     "output_type": "display_data"
    },
    {
     "data": {
      "text/markdown": [
       "<span style=\"color:#33cc33\">Correct</span>"
      ],
      "text/plain": [
       "Correct"
      ]
     },
     "metadata": {},
     "output_type": "display_data"
    }
   ],
   "source": [
    "def is_valid_zip(zip_code):\n",
    "    \"\"\"Returns whether the input string is a valid (5 digit) zip code\n",
    "    \"\"\"\n",
    "    pass\n",
    "    return len(zip_code) == 5 and zip_code.isdigit()\n",
    "\n",
    "# Check your answer\n",
    "q1.check()"
   ]
  },
  {
   "cell_type": "code",
   "execution_count": 8,
   "id": "3fe22f25",
   "metadata": {
    "execution": {
     "iopub.execute_input": "2023-05-29T22:26:29.301703Z",
     "iopub.status.busy": "2023-05-29T22:26:29.301407Z",
     "iopub.status.idle": "2023-05-29T22:26:29.304165Z",
     "shell.execute_reply": "2023-05-29T22:26:29.303613Z"
    },
    "papermill": {
     "duration": 0.012059,
     "end_time": "2023-05-29T22:26:29.306400",
     "exception": false,
     "start_time": "2023-05-29T22:26:29.294341",
     "status": "completed"
    },
    "tags": []
   },
   "outputs": [],
   "source": [
    "#q1.hint()\n",
    "#q1.solution()"
   ]
  },
  {
   "cell_type": "markdown",
   "id": "d7c04f8c",
   "metadata": {
    "papermill": {
     "duration": 0.005795,
     "end_time": "2023-05-29T22:26:29.318569",
     "exception": false,
     "start_time": "2023-05-29T22:26:29.312774",
     "status": "completed"
    },
    "tags": []
   },
   "source": [
    "# 2.\n",
    "\n",
    "A researcher has gathered thousands of news articles. But she wants to focus her attention on articles including a specific word. Complete the function below to help her filter her list of articles.\n",
    "\n",
    "Your function should meet the following criteria:\n",
    "\n",
    "- Do not include documents where the keyword string shows up only as a part of a larger word. For example, if she were looking for the keyword “closed”, you would not include the string “enclosed.” \n",
    "- She does not want you to distinguish upper case from lower case letters. So the phrase “Closed the case.” would be included when the keyword is “closed”\n",
    "- Do not let periods or commas affect what is matched. “It is closed.” would be included when the keyword is “closed”. But you can assume there are no other types of punctuation."
   ]
  },
  {
   "cell_type": "code",
   "execution_count": 9,
   "id": "704490b7",
   "metadata": {
    "execution": {
     "iopub.execute_input": "2023-05-29T22:26:29.332736Z",
     "iopub.status.busy": "2023-05-29T22:26:29.332373Z",
     "iopub.status.idle": "2023-05-29T22:26:29.340790Z",
     "shell.execute_reply": "2023-05-29T22:26:29.339927Z"
    },
    "papermill": {
     "duration": 0.017854,
     "end_time": "2023-05-29T22:26:29.342556",
     "exception": false,
     "start_time": "2023-05-29T22:26:29.324702",
     "status": "completed"
    },
    "tags": []
   },
   "outputs": [
    {
     "data": {
      "application/javascript": [
       "parent.postMessage({\"jupyterEvent\": \"custom.exercise_interaction\", \"data\": {\"outcomeType\": 1, \"valueTowardsCompletion\": 0.3333333333333333, \"interactionType\": 1, \"questionType\": 2, \"questionId\": \"2_WordSearch\", \"learnToolsVersion\": \"0.3.4\", \"failureMessage\": \"\", \"exceptionClass\": \"\", \"trace\": \"\"}}, \"*\")"
      ],
      "text/plain": [
       "<IPython.core.display.Javascript object>"
      ]
     },
     "metadata": {},
     "output_type": "display_data"
    },
    {
     "data": {
      "text/markdown": [
       "<span style=\"color:#33cc33\">Correct</span>"
      ],
      "text/plain": [
       "Correct"
      ]
     },
     "metadata": {},
     "output_type": "display_data"
    }
   ],
   "source": [
    "def word_search(doc_list, keyword):\n",
    "    \"\"\"\n",
    "    Takes a list of documents (each document is a string) and a keyword. \n",
    "    Returns list of the index values into the original list for all documents \n",
    "    containing the keyword.\n",
    "\n",
    "    Example:\n",
    "    doc_list = [\"The Learn Python Challenge Casino.\", \"They bought a car\", \"Casinoville\"]\n",
    "    >>> word_search(doc_list, 'casino')\n",
    "    >>> [0]\n",
    "    \"\"\"\n",
    "    pass\n",
    "    indexes = []\n",
    "    \n",
    "    for i,doc in enumerate(doc_list):\n",
    "        palabras = doc.split();\n",
    "        mismoformato = [palabra.strip(\",.\").lower() for palabra in palabras]\n",
    "        if (keyword.lower() in mismoformato):\n",
    "            indexes.append(i)\n",
    "    return indexes\n",
    "        \n",
    "\n",
    "# Check your answer\n",
    "q2.check()"
   ]
  },
  {
   "cell_type": "code",
   "execution_count": 10,
   "id": "7a3f6f26",
   "metadata": {
    "execution": {
     "iopub.execute_input": "2023-05-29T22:26:29.357212Z",
     "iopub.status.busy": "2023-05-29T22:26:29.356701Z",
     "iopub.status.idle": "2023-05-29T22:26:29.359959Z",
     "shell.execute_reply": "2023-05-29T22:26:29.359365Z"
    },
    "papermill": {
     "duration": 0.012663,
     "end_time": "2023-05-29T22:26:29.361564",
     "exception": false,
     "start_time": "2023-05-29T22:26:29.348901",
     "status": "completed"
    },
    "tags": []
   },
   "outputs": [],
   "source": [
    "#q2.hint()\n",
    "#q2.solution()"
   ]
  },
  {
   "cell_type": "markdown",
   "id": "7515843b",
   "metadata": {
    "papermill": {
     "duration": 0.006505,
     "end_time": "2023-05-29T22:26:29.374395",
     "exception": false,
     "start_time": "2023-05-29T22:26:29.367890",
     "status": "completed"
    },
    "tags": []
   },
   "source": [
    "# 3.\n",
    "\n",
    "Now the researcher wants to supply multiple keywords to search for. Complete the function below to help her.\n",
    "\n",
    "(You're encouraged to use the `word_search` function you just wrote when implementing this function. Reusing code in this way makes your programs more robust and readable - and it saves typing!)"
   ]
  },
  {
   "cell_type": "code",
   "execution_count": 11,
   "id": "7809442e",
   "metadata": {
    "execution": {
     "iopub.execute_input": "2023-05-29T22:26:29.389671Z",
     "iopub.status.busy": "2023-05-29T22:26:29.389132Z",
     "iopub.status.idle": "2023-05-29T22:26:29.397372Z",
     "shell.execute_reply": "2023-05-29T22:26:29.396487Z"
    },
    "papermill": {
     "duration": 0.017903,
     "end_time": "2023-05-29T22:26:29.399134",
     "exception": false,
     "start_time": "2023-05-29T22:26:29.381231",
     "status": "completed"
    },
    "tags": []
   },
   "outputs": [
    {
     "data": {
      "application/javascript": [
       "parent.postMessage({\"jupyterEvent\": \"custom.exercise_interaction\", \"data\": {\"outcomeType\": 1, \"valueTowardsCompletion\": 0.3333333333333333, \"interactionType\": 1, \"questionType\": 2, \"questionId\": \"3_MultiWordSearch\", \"learnToolsVersion\": \"0.3.4\", \"failureMessage\": \"\", \"exceptionClass\": \"\", \"trace\": \"\"}}, \"*\")"
      ],
      "text/plain": [
       "<IPython.core.display.Javascript object>"
      ]
     },
     "metadata": {},
     "output_type": "display_data"
    },
    {
     "data": {
      "text/markdown": [
       "<span style=\"color:#33cc33\">Correct</span>"
      ],
      "text/plain": [
       "Correct"
      ]
     },
     "metadata": {},
     "output_type": "display_data"
    }
   ],
   "source": [
    "def multi_word_search(doc_list, keywords):\n",
    "    \"\"\"\n",
    "    Takes list of documents (each document is a string) and a list of keywords.  \n",
    "    Returns a dictionary where each key is a keyword, and the value is a list of indices\n",
    "    (from doc_list) of the documents containing that keyword\n",
    "\n",
    "    >>> doc_list = [\"The Learn Python Challenge Casino.\", \"They bought a car and a casino\", \"Casinoville\"]\n",
    "    >>> keywords = ['casino', 'they']\n",
    "    >>> multi_word_search(doc_list, keywords)\n",
    "    {'casino': [0, 1], 'they': [1]}\n",
    "    \"\"\"\n",
    "    pass\n",
    "\n",
    "    dic = {}\n",
    "    \n",
    "    for palabra in keywords:\n",
    "        dic[palabra] = word_search(doc_list,palabra)\n",
    "\n",
    "    return dic\n",
    "\n",
    "# Check your answer\n",
    "q3.check()"
   ]
  },
  {
   "cell_type": "code",
   "execution_count": 12,
   "id": "e5323016",
   "metadata": {
    "execution": {
     "iopub.execute_input": "2023-05-29T22:26:29.413784Z",
     "iopub.status.busy": "2023-05-29T22:26:29.413460Z",
     "iopub.status.idle": "2023-05-29T22:26:29.416396Z",
     "shell.execute_reply": "2023-05-29T22:26:29.415846Z"
    },
    "papermill": {
     "duration": 0.012662,
     "end_time": "2023-05-29T22:26:29.418351",
     "exception": false,
     "start_time": "2023-05-29T22:26:29.405689",
     "status": "completed"
    },
    "tags": []
   },
   "outputs": [],
   "source": [
    "#q3.solution()"
   ]
  },
  {
   "cell_type": "markdown",
   "id": "48c3b699",
   "metadata": {
    "papermill": {
     "duration": 0.006036,
     "end_time": "2023-05-29T22:26:29.431005",
     "exception": false,
     "start_time": "2023-05-29T22:26:29.424969",
     "status": "completed"
    },
    "tags": []
   },
   "source": [
    "# Keep Going\n",
    "\n",
    "You've learned a lot. But even the best programmers rely heavily on \"libraries\" of code from other programmers. You'll learn about that in **[the last lesson](https://www.kaggle.com/colinmorris/working-with-external-libraries)**.\n"
   ]
  },
  {
   "cell_type": "markdown",
   "id": "80f6f23f",
   "metadata": {
    "papermill": {
     "duration": 0.006163,
     "end_time": "2023-05-29T22:26:29.443447",
     "exception": false,
     "start_time": "2023-05-29T22:26:29.437284",
     "status": "completed"
    },
    "tags": []
   },
   "source": [
    "---\n",
    "\n",
    "\n",
    "\n",
    "\n",
    "*Have questions or comments? Visit the [course discussion forum](https://www.kaggle.com/learn/python/discussion) to chat with other learners.*"
   ]
  }
 ],
 "metadata": {
  "kernelspec": {
   "display_name": "Python 3",
   "language": "python",
   "name": "python3"
  },
  "language_info": {
   "codemirror_mode": {
    "name": "ipython",
    "version": 3
   },
   "file_extension": ".py",
   "mimetype": "text/x-python",
   "name": "python",
   "nbconvert_exporter": "python",
   "pygments_lexer": "ipython3",
   "version": "3.10.10"
  },
  "papermill": {
   "default_parameters": {},
   "duration": 9.841556,
   "end_time": "2023-05-29T22:26:30.170395",
   "environment_variables": {},
   "exception": null,
   "input_path": "__notebook__.ipynb",
   "output_path": "__notebook__.ipynb",
   "parameters": {},
   "start_time": "2023-05-29T22:26:20.328839",
   "version": "2.4.0"
  }
 },
 "nbformat": 4,
 "nbformat_minor": 5
}
